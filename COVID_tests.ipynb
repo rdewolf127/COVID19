{
    "cells": [
        {
            "cell_type": "markdown",
            "metadata": {},
            "source": "# Importing from the COVID Tracking Project\n\nThis script pulls data from the API provided by the [COVID Tracking Project](https://covidtracking.com/). They're collecting data from 50 US states, the District of Columbia, and five U.S. territories to provide the most comprehensive testing data. They attempt to include positive and negative results, pending tests and total people tested for each state or district currently reporting that data."
        },
        {
            "cell_type": "code",
            "execution_count": 2,
            "metadata": {},
            "outputs": [
                {
                    "name": "stdout",
                    "output_type": "stream",
                    "text": "Collecting pycountry\n\u001b[?25l  Downloading https://files.pythonhosted.org/packages/16/b6/154fe93072051d8ce7bf197690957b6d0ac9a21d51c9a1d05bd7c6fdb16f/pycountry-19.8.18.tar.gz (10.0MB)\n\u001b[K     |\u2588\u2588\u2588\u2588\u2588\u2588\u2588\u2588\u2588\u2588\u2588\u2588\u2588\u2588\u2588\u2588\u2588\u2588\u2588\u2588\u2588\u2588\u2588\u2588\u2588\u2588\u2588\u2588\u2588\u2588\u2588\u2588| 10.0MB 6.3MB/s eta 0:00:01\n\u001b[?25hBuilding wheels for collected packages: pycountry\n  Building wheel for pycountry (setup.py) ... \u001b[?25ldone\n\u001b[?25h  Stored in directory: /home/dsxuser/.cache/pip/wheels/a2/98/bf/f0fa1c6bf8cf2cbdb750d583f84be51c2cd8272460b8b36bd3\nSuccessfully built pycountry\nInstalling collected packages: pycountry\nSuccessfully installed pycountry-19.8.18\n"
                }
            ],
            "source": "import pandas as pd\nimport requests\nimport json\nimport datetime\n!pip install pycountry\nimport pycountry"
        },
        {
            "cell_type": "code",
            "execution_count": 3,
            "metadata": {
                "tags": [
                    "parameters"
                ]
            },
            "outputs": [],
            "source": "# papermill parameters\noutput_folder = '../output/'"
        },
        {
            "cell_type": "code",
            "execution_count": 4,
            "metadata": {},
            "outputs": [],
            "source": "raw_response = requests.get(\"https://covidtracking.com/api/states/daily\").text\nraw_data = pd.DataFrame.from_dict(json.loads(raw_response))"
        },
        {
            "cell_type": "markdown",
            "metadata": {},
            "source": "### Data Quality\n1. Replace empty values with zero\n2. Convert \"date\" int column to \"Date\" datetime column\n4. Rename columns in order to match with other source\n5. Drop unnecessary columns\n6. Add \"Country/Region\" column, since the source contains data from US states, it can be hardcoded"
        },
        {
            "cell_type": "code",
            "execution_count": 5,
            "metadata": {},
            "outputs": [],
            "source": "data = raw_data.fillna(0)\ndata['Date'] = pd.to_datetime(data['date'].astype(str), format='%Y%m%d')\ndata = data.rename(\n    columns={\n        \"state\": \"ISO3166-2\",\n        \"positive\": \"Positive\",\n        \"negative\": \"Negative\",\n        \"pending\": \"Pending\",\n        \"death\": \"Death\",\n        \"totalTestResults\": \"Total\",\n        \"hospitalized\": \"Hospitalized\"\n    })\ndata = data.drop(labels=['dateChecked', \"date\"], axis='columns')\ndata['Country/Region'] = \"United States\"\ndata['ISO3166-1'] = \"US\""
        },
        {
            "cell_type": "code",
            "execution_count": 6,
            "metadata": {},
            "outputs": [],
            "source": "states = {k.code.replace(\"US-\", \"\"): k.name for k in pycountry.subdivisions.get(country_code=\"US\")}"
        },
        {
            "cell_type": "code",
            "execution_count": 7,
            "metadata": {},
            "outputs": [],
            "source": "data[\"Province/State\"] = data[\"ISO3166-2\"].apply(lambda x: states[x])"
        },
        {
            "cell_type": "markdown",
            "metadata": {},
            "source": "## Sorting data by Province/State before calculating the daily differences"
        },
        {
            "cell_type": "code",
            "execution_count": 8,
            "metadata": {
                "scrolled": true
            },
            "outputs": [],
            "source": "sorted_data = data.sort_values(by=['Province/State'] + ['Date'], ascending=True)"
        },
        {
            "cell_type": "code",
            "execution_count": 9,
            "metadata": {},
            "outputs": [],
            "source": "sorted_data['Positive_Since_Previous_Day'] = sorted_data['Positive'] - sorted_data.groupby(['Province/State'])[\"Positive\"].shift(1, fill_value=0)\nsorted_data['Total_Since_Previous_Day'] = sorted_data['Total'] - sorted_data.groupby(['Province/State'])[\"Total\"].shift(1, fill_value=0)\nsorted_data['Negative_Since_Previous_Day'] = sorted_data['Negative'] - sorted_data.groupby(['Province/State'])[\"Negative\"].shift(1, fill_value=0)\nsorted_data['Pending_Since_Previous_Day'] = sorted_data['Pending'] - sorted_data.groupby(['Province/State'])[\"Pending\"].shift(1, fill_value=0)\nsorted_data['Death_Since_Previous_Day'] = sorted_data['Death'] - sorted_data.groupby(['Province/State'])[\"Death\"].shift(1, fill_value=0)\nsorted_data['Hospitalized_Since_Previous_Day'] = sorted_data['Hospitalized'] - sorted_data.groupby(['Province/State'])[\"Hospitalized\"].shift(1, fill_value=0)"
        },
        {
            "cell_type": "markdown",
            "metadata": {},
            "source": "## Rearrange columns"
        },
        {
            "cell_type": "code",
            "execution_count": 10,
            "metadata": {},
            "outputs": [],
            "source": "rearranged_data = sorted_data.filter(items=['Country/Region', 'Province/State', 'Date',\n                               'Positive', 'Positive_Since_Previous_Day',\n                               'Negative', 'Negative_Since_Previous_Day',\n                               'Pending', 'Pending_Since_Previous_Day',\n                               'Death', 'Death_Since_Previous_Day',\n                               'Hospitalized', 'Hospitalized_Since_Previous_Day',\n                               'Total', 'Total_Since_Previous_Day',\n                               'ISO3166-1', 'ISO3166-2'])"
        },
        {
            "cell_type": "markdown",
            "metadata": {},
            "source": "## Add `Last_Update_Date`"
        },
        {
            "cell_type": "code",
            "execution_count": 13,
            "metadata": {},
            "outputs": [
                {
                    "data": {
                        "text/html": "<div>\n<style scoped>\n    .dataframe tbody tr th:only-of-type {\n        vertical-align: middle;\n    }\n\n    .dataframe tbody tr th {\n        vertical-align: top;\n    }\n\n    .dataframe thead th {\n        text-align: right;\n    }\n</style>\n<table border=\"1\" class=\"dataframe\">\n  <thead>\n    <tr style=\"text-align: right;\">\n      <th></th>\n      <th>Country/Region</th>\n      <th>Province/State</th>\n      <th>Date</th>\n      <th>Positive</th>\n      <th>Positive_Since_Previous_Day</th>\n      <th>Negative</th>\n      <th>Negative_Since_Previous_Day</th>\n      <th>Pending</th>\n      <th>Pending_Since_Previous_Day</th>\n      <th>Death</th>\n      <th>Death_Since_Previous_Day</th>\n      <th>Hospitalized</th>\n      <th>Hospitalized_Since_Previous_Day</th>\n      <th>Total</th>\n      <th>Total_Since_Previous_Day</th>\n      <th>ISO3166-1</th>\n      <th>ISO3166-2</th>\n      <th>Last_Update_Date</th>\n    </tr>\n  </thead>\n  <tbody>\n    <tr>\n      <th>1585</th>\n      <td>United States</td>\n      <td>Alabama</td>\n      <td>2020-03-07</td>\n      <td>0.0</td>\n      <td>0.0</td>\n      <td>0.0</td>\n      <td>0.0</td>\n      <td>0.0</td>\n      <td>0.0</td>\n      <td>0.0</td>\n      <td>0.0</td>\n      <td>0.0</td>\n      <td>0.0</td>\n      <td>0</td>\n      <td>0</td>\n      <td>US</td>\n      <td>AL</td>\n      <td>2020-04-06 18:22:38.790648</td>\n    </tr>\n    <tr>\n      <th>1534</th>\n      <td>United States</td>\n      <td>Alabama</td>\n      <td>2020-03-08</td>\n      <td>0.0</td>\n      <td>0.0</td>\n      <td>0.0</td>\n      <td>0.0</td>\n      <td>0.0</td>\n      <td>0.0</td>\n      <td>0.0</td>\n      <td>0.0</td>\n      <td>0.0</td>\n      <td>0.0</td>\n      <td>0</td>\n      <td>0</td>\n      <td>US</td>\n      <td>AL</td>\n      <td>2020-04-06 18:22:38.790648</td>\n    </tr>\n    <tr>\n      <th>1483</th>\n      <td>United States</td>\n      <td>Alabama</td>\n      <td>2020-03-09</td>\n      <td>0.0</td>\n      <td>0.0</td>\n      <td>0.0</td>\n      <td>0.0</td>\n      <td>0.0</td>\n      <td>0.0</td>\n      <td>0.0</td>\n      <td>0.0</td>\n      <td>0.0</td>\n      <td>0.0</td>\n      <td>0</td>\n      <td>0</td>\n      <td>US</td>\n      <td>AL</td>\n      <td>2020-04-06 18:22:38.790648</td>\n    </tr>\n    <tr>\n      <th>1432</th>\n      <td>United States</td>\n      <td>Alabama</td>\n      <td>2020-03-10</td>\n      <td>0.0</td>\n      <td>0.0</td>\n      <td>0.0</td>\n      <td>0.0</td>\n      <td>0.0</td>\n      <td>0.0</td>\n      <td>0.0</td>\n      <td>0.0</td>\n      <td>0.0</td>\n      <td>0.0</td>\n      <td>0</td>\n      <td>0</td>\n      <td>US</td>\n      <td>AL</td>\n      <td>2020-04-06 18:22:38.790648</td>\n    </tr>\n    <tr>\n      <th>1381</th>\n      <td>United States</td>\n      <td>Alabama</td>\n      <td>2020-03-11</td>\n      <td>0.0</td>\n      <td>0.0</td>\n      <td>10.0</td>\n      <td>10.0</td>\n      <td>0.0</td>\n      <td>0.0</td>\n      <td>0.0</td>\n      <td>0.0</td>\n      <td>0.0</td>\n      <td>0.0</td>\n      <td>10</td>\n      <td>10</td>\n      <td>US</td>\n      <td>AL</td>\n      <td>2020-04-06 18:22:38.790648</td>\n    </tr>\n  </tbody>\n</table>\n</div>",
                        "text/plain": "     Country/Region Province/State       Date  Positive  \\\n1585  United States        Alabama 2020-03-07       0.0   \n1534  United States        Alabama 2020-03-08       0.0   \n1483  United States        Alabama 2020-03-09       0.0   \n1432  United States        Alabama 2020-03-10       0.0   \n1381  United States        Alabama 2020-03-11       0.0   \n\n      Positive_Since_Previous_Day  Negative  Negative_Since_Previous_Day  \\\n1585                          0.0       0.0                          0.0   \n1534                          0.0       0.0                          0.0   \n1483                          0.0       0.0                          0.0   \n1432                          0.0       0.0                          0.0   \n1381                          0.0      10.0                         10.0   \n\n      Pending  Pending_Since_Previous_Day  Death  Death_Since_Previous_Day  \\\n1585      0.0                         0.0    0.0                       0.0   \n1534      0.0                         0.0    0.0                       0.0   \n1483      0.0                         0.0    0.0                       0.0   \n1432      0.0                         0.0    0.0                       0.0   \n1381      0.0                         0.0    0.0                       0.0   \n\n      Hospitalized  Hospitalized_Since_Previous_Day  Total  \\\n1585           0.0                              0.0      0   \n1534           0.0                              0.0      0   \n1483           0.0                              0.0      0   \n1432           0.0                              0.0      0   \n1381           0.0                              0.0     10   \n\n      Total_Since_Previous_Day ISO3166-1 ISO3166-2           Last_Update_Date  \n1585                         0        US        AL 2020-04-06 18:22:38.790648  \n1534                         0        US        AL 2020-04-06 18:22:38.790648  \n1483                         0        US        AL 2020-04-06 18:22:38.790648  \n1432                         0        US        AL 2020-04-06 18:22:38.790648  \n1381                        10        US        AL 2020-04-06 18:22:38.790648  "
                    },
                    "execution_count": 13,
                    "metadata": {},
                    "output_type": "execute_result"
                }
            ],
            "source": "rearranged_data.loc[:, \"Last_Update_Date\"] = datetime.datetime.utcnow()\nrearranged_data.head()"
        },
        {
            "cell_type": "markdown",
            "metadata": {},
            "source": "## Export to CSV"
        },
        {
            "cell_type": "code",
            "execution_count": 12,
            "metadata": {},
            "outputs": [
                {
                    "ename": "FileNotFoundError",
                    "evalue": "[Errno 2] No such file or directory: '../output/CT_US_COVID_TESTS.csv'",
                    "output_type": "error",
                    "traceback": [
                        "\u001b[0;31m---------------------------------------------------------------------------\u001b[0m",
                        "\u001b[0;31mFileNotFoundError\u001b[0m                         Traceback (most recent call last)",
                        "\u001b[0;32m<ipython-input-12-6fb134b69084>\u001b[0m in \u001b[0;36m<module>\u001b[0;34m\u001b[0m\n\u001b[0;32m----> 1\u001b[0;31m \u001b[0mrearranged_data\u001b[0m\u001b[0;34m.\u001b[0m\u001b[0mto_csv\u001b[0m\u001b[0;34m(\u001b[0m\u001b[0moutput_folder\u001b[0m \u001b[0;34m+\u001b[0m \u001b[0;34m\"CT_US_COVID_TESTS.csv\"\u001b[0m\u001b[0;34m,\u001b[0m \u001b[0mindex\u001b[0m\u001b[0;34m=\u001b[0m\u001b[0;32mFalse\u001b[0m\u001b[0;34m)\u001b[0m\u001b[0;34m\u001b[0m\u001b[0;34m\u001b[0m\u001b[0m\n\u001b[0m",
                        "\u001b[0;32m/opt/conda/envs/Python36/lib/python3.6/site-packages/pandas/core/generic.py\u001b[0m in \u001b[0;36mto_csv\u001b[0;34m(self, path_or_buf, sep, na_rep, float_format, columns, header, index, index_label, mode, encoding, compression, quoting, quotechar, line_terminator, chunksize, tupleize_cols, date_format, doublequote, escapechar, decimal)\u001b[0m\n\u001b[1;32m   3018\u001b[0m                                  \u001b[0mdoublequote\u001b[0m\u001b[0;34m=\u001b[0m\u001b[0mdoublequote\u001b[0m\u001b[0;34m,\u001b[0m\u001b[0;34m\u001b[0m\u001b[0;34m\u001b[0m\u001b[0m\n\u001b[1;32m   3019\u001b[0m                                  escapechar=escapechar, decimal=decimal)\n\u001b[0;32m-> 3020\u001b[0;31m         \u001b[0mformatter\u001b[0m\u001b[0;34m.\u001b[0m\u001b[0msave\u001b[0m\u001b[0;34m(\u001b[0m\u001b[0;34m)\u001b[0m\u001b[0;34m\u001b[0m\u001b[0;34m\u001b[0m\u001b[0m\n\u001b[0m\u001b[1;32m   3021\u001b[0m \u001b[0;34m\u001b[0m\u001b[0m\n\u001b[1;32m   3022\u001b[0m         \u001b[0;32mif\u001b[0m \u001b[0mpath_or_buf\u001b[0m \u001b[0;32mis\u001b[0m \u001b[0;32mNone\u001b[0m\u001b[0;34m:\u001b[0m\u001b[0;34m\u001b[0m\u001b[0;34m\u001b[0m\u001b[0m\n",
                        "\u001b[0;32m/opt/conda/envs/Python36/lib/python3.6/site-packages/pandas/io/formats/csvs.py\u001b[0m in \u001b[0;36msave\u001b[0;34m(self)\u001b[0m\n\u001b[1;32m    155\u001b[0m             f, handles = _get_handle(self.path_or_buf, self.mode,\n\u001b[1;32m    156\u001b[0m                                      \u001b[0mencoding\u001b[0m\u001b[0;34m=\u001b[0m\u001b[0mself\u001b[0m\u001b[0;34m.\u001b[0m\u001b[0mencoding\u001b[0m\u001b[0;34m,\u001b[0m\u001b[0;34m\u001b[0m\u001b[0;34m\u001b[0m\u001b[0m\n\u001b[0;32m--> 157\u001b[0;31m                                      compression=self.compression)\n\u001b[0m\u001b[1;32m    158\u001b[0m             \u001b[0mclose\u001b[0m \u001b[0;34m=\u001b[0m \u001b[0;32mTrue\u001b[0m\u001b[0;34m\u001b[0m\u001b[0;34m\u001b[0m\u001b[0m\n\u001b[1;32m    159\u001b[0m \u001b[0;34m\u001b[0m\u001b[0m\n",
                        "\u001b[0;32m/opt/conda/envs/Python36/lib/python3.6/site-packages/pandas/io/common.py\u001b[0m in \u001b[0;36m_get_handle\u001b[0;34m(path_or_buf, mode, encoding, compression, memory_map, is_text)\u001b[0m\n\u001b[1;32m    422\u001b[0m         \u001b[0;32melif\u001b[0m \u001b[0mencoding\u001b[0m\u001b[0;34m:\u001b[0m\u001b[0;34m\u001b[0m\u001b[0;34m\u001b[0m\u001b[0m\n\u001b[1;32m    423\u001b[0m             \u001b[0;31m# Python 3 and encoding\u001b[0m\u001b[0;34m\u001b[0m\u001b[0;34m\u001b[0m\u001b[0;34m\u001b[0m\u001b[0m\n\u001b[0;32m--> 424\u001b[0;31m             \u001b[0mf\u001b[0m \u001b[0;34m=\u001b[0m \u001b[0mopen\u001b[0m\u001b[0;34m(\u001b[0m\u001b[0mpath_or_buf\u001b[0m\u001b[0;34m,\u001b[0m \u001b[0mmode\u001b[0m\u001b[0;34m,\u001b[0m \u001b[0mencoding\u001b[0m\u001b[0;34m=\u001b[0m\u001b[0mencoding\u001b[0m\u001b[0;34m,\u001b[0m \u001b[0mnewline\u001b[0m\u001b[0;34m=\u001b[0m\u001b[0;34m\"\"\u001b[0m\u001b[0;34m)\u001b[0m\u001b[0;34m\u001b[0m\u001b[0;34m\u001b[0m\u001b[0m\n\u001b[0m\u001b[1;32m    425\u001b[0m         \u001b[0;32melif\u001b[0m \u001b[0mis_text\u001b[0m\u001b[0;34m:\u001b[0m\u001b[0;34m\u001b[0m\u001b[0;34m\u001b[0m\u001b[0m\n\u001b[1;32m    426\u001b[0m             \u001b[0;31m# Python 3 and no explicit encoding\u001b[0m\u001b[0;34m\u001b[0m\u001b[0;34m\u001b[0m\u001b[0;34m\u001b[0m\u001b[0m\n",
                        "\u001b[0;31mFileNotFoundError\u001b[0m: [Errno 2] No such file or directory: '../output/CT_US_COVID_TESTS.csv'"
                    ]
                }
            ],
            "source": "rearranged_data.to_csv(output_folder + \"CT_US_COVID_TESTS.csv\", index=False)"
        }
    ],
    "metadata": {
        "celltoolbar": "Tags",
        "kernelspec": {
            "display_name": "Python 3.6",
            "language": "python",
            "name": "python3"
        },
        "language_info": {
            "codemirror_mode": {
                "name": "ipython",
                "version": 3
            },
            "file_extension": ".py",
            "mimetype": "text/x-python",
            "name": "python",
            "nbconvert_exporter": "python",
            "pygments_lexer": "ipython3",
            "version": "3.6.9"
        },
        "pycharm": {
            "stem_cell": {
                "cell_type": "raw",
                "metadata": {
                    "collapsed": false
                },
                "source": []
            }
        }
    },
    "nbformat": 4,
    "nbformat_minor": 2
}