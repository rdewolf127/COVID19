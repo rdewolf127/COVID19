{
    "cells": [
        {
            "cell_type": "code",
            "execution_count": 2,
            "metadata": {},
            "outputs": [],
            "source": "# The code was removed by Watson Studio for sharing."
        },
        {
            "cell_type": "code",
            "execution_count": 3,
            "metadata": {
                "scrolled": true
            },
            "outputs": [
                {
                    "name": "stdout",
                    "output_type": "stream",
                    "text": "Collecting wget\n  Downloading https://files.pythonhosted.org/packages/47/6a/62e288da7bcda82b935ff0c6cfe542970f04e29c756b0e147251b2fb251f/wget-3.2.zip\nBuilding wheels for collected packages: wget\n  Building wheel for wget (setup.py) ... \u001b[?25ldone\n\u001b[?25h  Stored in directory: /home/dsxuser/.cache/pip/wheels/40/15/30/7d8f7cea2902b4db79e3fea550d7d7b85ecb27ef992b618f3f\nSuccessfully built wget\nInstalling collected packages: wget\nSuccessfully installed wget-3.2\n"
                }
            ],
            "source": "import pandas as pd\nimport numpy as np\n!pip install 'wget'\nimport wget"
        },
        {
            "cell_type": "code",
            "execution_count": 5,
            "metadata": {},
            "outputs": [],
            "source": "urls = ['https://raw.githubusercontent.com/CSSEGISandData/COVID-19/master/csse_covid_19_data/csse_covid_19_time_series/time_series_covid19_confirmed_US.csv', \n        'https://raw.githubusercontent.com/CSSEGISandData/COVID-19/master/csse_covid_19_data/csse_covid_19_time_series/time_series_covid19_deaths_US.csv']\nfor url in urls:\n    filename = wget.download(url)"
        },
        {
            "cell_type": "code",
            "execution_count": 6,
            "metadata": {},
            "outputs": [
                {
                    "data": {
                        "text/html": "<div>\n<style scoped>\n    .dataframe tbody tr th:only-of-type {\n        vertical-align: middle;\n    }\n\n    .dataframe tbody tr th {\n        vertical-align: top;\n    }\n\n    .dataframe thead th {\n        text-align: right;\n    }\n</style>\n<table border=\"1\" class=\"dataframe\">\n  <thead>\n    <tr style=\"text-align: right;\">\n      <th></th>\n      <th>UID</th>\n      <th>iso2</th>\n      <th>iso3</th>\n      <th>code3</th>\n      <th>FIPS</th>\n      <th>Admin2</th>\n      <th>Province_State</th>\n      <th>Country_Region</th>\n      <th>Lat</th>\n      <th>Long_</th>\n      <th>...</th>\n      <th>3/29/20</th>\n      <th>3/30/20</th>\n      <th>3/31/20</th>\n      <th>4/1/20</th>\n      <th>4/2/20</th>\n      <th>4/3/20</th>\n      <th>4/4/20</th>\n      <th>4/5/20</th>\n      <th>4/6/20</th>\n      <th>4/7/20</th>\n    </tr>\n  </thead>\n  <tbody>\n    <tr>\n      <th>0</th>\n      <td>16</td>\n      <td>AS</td>\n      <td>ASM</td>\n      <td>16</td>\n      <td>60.0</td>\n      <td>NaN</td>\n      <td>American Samoa</td>\n      <td>US</td>\n      <td>-14.2710</td>\n      <td>-170.1320</td>\n      <td>...</td>\n      <td>0</td>\n      <td>0</td>\n      <td>0</td>\n      <td>0</td>\n      <td>0</td>\n      <td>0</td>\n      <td>0</td>\n      <td>0</td>\n      <td>0</td>\n      <td>0</td>\n    </tr>\n    <tr>\n      <th>1</th>\n      <td>316</td>\n      <td>GU</td>\n      <td>GUM</td>\n      <td>316</td>\n      <td>66.0</td>\n      <td>NaN</td>\n      <td>Guam</td>\n      <td>US</td>\n      <td>13.4443</td>\n      <td>144.7937</td>\n      <td>...</td>\n      <td>1</td>\n      <td>1</td>\n      <td>2</td>\n      <td>3</td>\n      <td>3</td>\n      <td>4</td>\n      <td>4</td>\n      <td>4</td>\n      <td>4</td>\n      <td>4</td>\n    </tr>\n    <tr>\n      <th>2</th>\n      <td>580</td>\n      <td>MP</td>\n      <td>MNP</td>\n      <td>580</td>\n      <td>69.0</td>\n      <td>NaN</td>\n      <td>Northern Mariana Islands</td>\n      <td>US</td>\n      <td>15.0979</td>\n      <td>145.6739</td>\n      <td>...</td>\n      <td>0</td>\n      <td>0</td>\n      <td>0</td>\n      <td>1</td>\n      <td>1</td>\n      <td>1</td>\n      <td>1</td>\n      <td>1</td>\n      <td>1</td>\n      <td>1</td>\n    </tr>\n    <tr>\n      <th>3</th>\n      <td>630</td>\n      <td>PR</td>\n      <td>PRI</td>\n      <td>630</td>\n      <td>72.0</td>\n      <td>NaN</td>\n      <td>Puerto Rico</td>\n      <td>US</td>\n      <td>18.2208</td>\n      <td>-66.5901</td>\n      <td>...</td>\n      <td>3</td>\n      <td>6</td>\n      <td>8</td>\n      <td>11</td>\n      <td>12</td>\n      <td>15</td>\n      <td>18</td>\n      <td>20</td>\n      <td>21</td>\n      <td>23</td>\n    </tr>\n    <tr>\n      <th>4</th>\n      <td>850</td>\n      <td>VI</td>\n      <td>VIR</td>\n      <td>850</td>\n      <td>78.0</td>\n      <td>NaN</td>\n      <td>Virgin Islands</td>\n      <td>US</td>\n      <td>18.3358</td>\n      <td>-64.8963</td>\n      <td>...</td>\n      <td>0</td>\n      <td>0</td>\n      <td>0</td>\n      <td>0</td>\n      <td>0</td>\n      <td>0</td>\n      <td>0</td>\n      <td>1</td>\n      <td>1</td>\n      <td>1</td>\n    </tr>\n  </tbody>\n</table>\n<p>5 rows \u00d7 89 columns</p>\n</div>",
                        "text/plain": "   UID iso2 iso3  code3  FIPS Admin2            Province_State Country_Region  \\\n0   16   AS  ASM     16  60.0    NaN            American Samoa             US   \n1  316   GU  GUM    316  66.0    NaN                      Guam             US   \n2  580   MP  MNP    580  69.0    NaN  Northern Mariana Islands             US   \n3  630   PR  PRI    630  72.0    NaN               Puerto Rico             US   \n4  850   VI  VIR    850  78.0    NaN            Virgin Islands             US   \n\n       Lat     Long_  ... 3/29/20  3/30/20  3/31/20  4/1/20  4/2/20  4/3/20  \\\n0 -14.2710 -170.1320  ...       0        0        0       0       0       0   \n1  13.4443  144.7937  ...       1        1        2       3       3       4   \n2  15.0979  145.6739  ...       0        0        0       1       1       1   \n3  18.2208  -66.5901  ...       3        6        8      11      12      15   \n4  18.3358  -64.8963  ...       0        0        0       0       0       0   \n\n   4/4/20  4/5/20  4/6/20  4/7/20  \n0       0       0       0       0  \n1       4       4       4       4  \n2       1       1       1       1  \n3      18      20      21      23  \n4       0       1       1       1  \n\n[5 rows x 89 columns]"
                    },
                    "execution_count": 6,
                    "metadata": {},
                    "output_type": "execute_result"
                }
            ],
            "source": "conf_df = pd.read_csv('time_series_covid19_confirmed_US.csv')\ndeaths_df = pd.read_csv('time_series_covid19_deaths_US.csv')\ndeaths_df.head()"
        },
        {
            "cell_type": "code",
            "execution_count": 7,
            "metadata": {},
            "outputs": [
                {
                    "data": {
                        "text/html": "<div>\n<style scoped>\n    .dataframe tbody tr th:only-of-type {\n        vertical-align: middle;\n    }\n\n    .dataframe tbody tr th {\n        vertical-align: top;\n    }\n\n    .dataframe thead th {\n        text-align: right;\n    }\n</style>\n<table border=\"1\" class=\"dataframe\">\n  <thead>\n    <tr style=\"text-align: right;\">\n      <th></th>\n      <th>FIPS</th>\n      <th>Province_State</th>\n      <th>Country_Region</th>\n      <th>Lat</th>\n      <th>Long_</th>\n      <th>Date</th>\n      <th>Confirmed</th>\n      <th>Deaths</th>\n    </tr>\n  </thead>\n  <tbody>\n    <tr>\n      <th>0</th>\n      <td>60.0</td>\n      <td>American Samoa</td>\n      <td>US</td>\n      <td>-14.2710</td>\n      <td>-170.1320</td>\n      <td>1/23/20</td>\n      <td>0</td>\n      <td>0</td>\n    </tr>\n    <tr>\n      <th>1</th>\n      <td>66.0</td>\n      <td>Guam</td>\n      <td>US</td>\n      <td>13.4443</td>\n      <td>144.7937</td>\n      <td>1/23/20</td>\n      <td>0</td>\n      <td>0</td>\n    </tr>\n    <tr>\n      <th>2</th>\n      <td>69.0</td>\n      <td>Northern Mariana Islands</td>\n      <td>US</td>\n      <td>15.0979</td>\n      <td>145.6739</td>\n      <td>1/23/20</td>\n      <td>0</td>\n      <td>0</td>\n    </tr>\n    <tr>\n      <th>3</th>\n      <td>72.0</td>\n      <td>Puerto Rico</td>\n      <td>US</td>\n      <td>18.2208</td>\n      <td>-66.5901</td>\n      <td>1/23/20</td>\n      <td>0</td>\n      <td>0</td>\n    </tr>\n    <tr>\n      <th>4</th>\n      <td>78.0</td>\n      <td>Virgin Islands</td>\n      <td>US</td>\n      <td>18.3358</td>\n      <td>-64.8963</td>\n      <td>1/23/20</td>\n      <td>0</td>\n      <td>0</td>\n    </tr>\n  </tbody>\n</table>\n</div>",
                        "text/plain": "   FIPS            Province_State Country_Region      Lat     Long_     Date  \\\n0  60.0            American Samoa             US -14.2710 -170.1320  1/23/20   \n1  66.0                      Guam             US  13.4443  144.7937  1/23/20   \n2  69.0  Northern Mariana Islands             US  15.0979  145.6739  1/23/20   \n3  72.0               Puerto Rico             US  18.2208  -66.5901  1/23/20   \n4  78.0            Virgin Islands             US  18.3358  -64.8963  1/23/20   \n\n   Confirmed  Deaths  \n0          0       0  \n1          0       0  \n2          0       0  \n3          0       0  \n4          0       0  "
                    },
                    "execution_count": 7,
                    "metadata": {},
                    "output_type": "execute_result"
                }
            ],
            "source": "dates = conf_df.columns[12:]\n\nconf_df_long = conf_df.melt(id_vars=['FIPS','Province_State', 'Country_Region', 'Lat', 'Long_'], \n                            value_vars=dates, var_name='Date', value_name='Confirmed')\n\ndeaths_df_long = deaths_df.melt(id_vars=['FIPS','Province_State', 'Country_Region', 'Lat', 'Long_'], \n                            value_vars=dates, var_name='Date', value_name='Deaths')\n\nfull_table = pd.concat([conf_df_long, deaths_df_long['Deaths']], \n                       axis=1, sort=False)\n\nfull_table.head()"
        },
        {
            "cell_type": "code",
            "execution_count": 9,
            "metadata": {},
            "outputs": [
                {
                    "data": {
                        "text/html": "<div>\n<style scoped>\n    .dataframe tbody tr th:only-of-type {\n        vertical-align: middle;\n    }\n\n    .dataframe tbody tr th {\n        vertical-align: top;\n    }\n\n    .dataframe thead th {\n        text-align: right;\n    }\n</style>\n<table border=\"1\" class=\"dataframe\">\n  <thead>\n    <tr style=\"text-align: right;\">\n      <th></th>\n      <th>FIPS</th>\n      <th>Province_State</th>\n      <th>Country_Region</th>\n      <th>Lat</th>\n      <th>Long_</th>\n      <th>Date</th>\n      <th>Confirmed</th>\n      <th>Deaths</th>\n    </tr>\n  </thead>\n  <tbody>\n    <tr>\n      <th>0</th>\n      <td>60.0</td>\n      <td>American Samoa</td>\n      <td>US</td>\n      <td>-14.2710</td>\n      <td>-170.1320</td>\n      <td>1/23/20</td>\n      <td>0</td>\n      <td>0</td>\n    </tr>\n    <tr>\n      <th>1</th>\n      <td>66.0</td>\n      <td>Guam</td>\n      <td>US</td>\n      <td>13.4443</td>\n      <td>144.7937</td>\n      <td>1/23/20</td>\n      <td>0</td>\n      <td>0</td>\n    </tr>\n    <tr>\n      <th>2</th>\n      <td>69.0</td>\n      <td>Northern Mariana Islands</td>\n      <td>US</td>\n      <td>15.0979</td>\n      <td>145.6739</td>\n      <td>1/23/20</td>\n      <td>0</td>\n      <td>0</td>\n    </tr>\n    <tr>\n      <th>3</th>\n      <td>72.0</td>\n      <td>Puerto Rico</td>\n      <td>US</td>\n      <td>18.2208</td>\n      <td>-66.5901</td>\n      <td>1/23/20</td>\n      <td>0</td>\n      <td>0</td>\n    </tr>\n    <tr>\n      <th>4</th>\n      <td>78.0</td>\n      <td>Virgin Islands</td>\n      <td>US</td>\n      <td>18.3358</td>\n      <td>-64.8963</td>\n      <td>1/23/20</td>\n      <td>0</td>\n      <td>0</td>\n    </tr>\n  </tbody>\n</table>\n</div>",
                        "text/plain": "   FIPS            Province_State Country_Region      Lat     Long_     Date  \\\n0  60.0            American Samoa             US -14.2710 -170.1320  1/23/20   \n1  66.0                      Guam             US  13.4443  144.7937  1/23/20   \n2  69.0  Northern Mariana Islands             US  15.0979  145.6739  1/23/20   \n3  72.0               Puerto Rico             US  18.2208  -66.5901  1/23/20   \n4  78.0            Virgin Islands             US  18.3358  -64.8963  1/23/20   \n\n   Confirmed  Deaths  \n0          0       0  \n1          0       0  \n2          0       0  \n3          0       0  \n4          0       0  "
                    },
                    "execution_count": 9,
                    "metadata": {},
                    "output_type": "execute_result"
                }
            ],
            "source": "#limit to United States\nus_only = full_table[(full_table['Country_Region']=='US')]\nus_only.head()"
        },
        {
            "cell_type": "code",
            "execution_count": 29,
            "metadata": {},
            "outputs": [
                {
                    "data": {
                        "text/html": "<div>\n<style scoped>\n    .dataframe tbody tr th:only-of-type {\n        vertical-align: middle;\n    }\n\n    .dataframe tbody tr th {\n        vertical-align: top;\n    }\n\n    .dataframe thead th {\n        text-align: right;\n    }\n</style>\n<table border=\"1\" class=\"dataframe\">\n  <thead>\n    <tr style=\"text-align: right;\">\n      <th></th>\n      <th>FIPS</th>\n      <th>Province_State</th>\n      <th>Country_Region</th>\n      <th>Lat</th>\n      <th>Long_</th>\n      <th>Date</th>\n      <th>Confirmed</th>\n      <th>Deaths</th>\n    </tr>\n  </thead>\n  <tbody>\n    <tr>\n      <th>0</th>\n      <td>60.0</td>\n      <td>American Samoa</td>\n      <td>US</td>\n      <td>-14.2710</td>\n      <td>-170.1320</td>\n      <td>1/23/20</td>\n      <td>0</td>\n      <td>0</td>\n    </tr>\n    <tr>\n      <th>1</th>\n      <td>66.0</td>\n      <td>Guam</td>\n      <td>US</td>\n      <td>13.4443</td>\n      <td>144.7937</td>\n      <td>1/23/20</td>\n      <td>0</td>\n      <td>0</td>\n    </tr>\n    <tr>\n      <th>2</th>\n      <td>69.0</td>\n      <td>Northern Mariana Islands</td>\n      <td>US</td>\n      <td>15.0979</td>\n      <td>145.6739</td>\n      <td>1/23/20</td>\n      <td>0</td>\n      <td>0</td>\n    </tr>\n    <tr>\n      <th>3</th>\n      <td>72.0</td>\n      <td>Puerto Rico</td>\n      <td>US</td>\n      <td>18.2208</td>\n      <td>-66.5901</td>\n      <td>1/23/20</td>\n      <td>0</td>\n      <td>0</td>\n    </tr>\n    <tr>\n      <th>4</th>\n      <td>78.0</td>\n      <td>Virgin Islands</td>\n      <td>US</td>\n      <td>18.3358</td>\n      <td>-64.8963</td>\n      <td>1/23/20</td>\n      <td>0</td>\n      <td>0</td>\n    </tr>\n  </tbody>\n</table>\n</div>",
                        "text/plain": "   FIPS            Province_State Country_Region      Lat     Long_     Date  \\\n0  60.0            American Samoa             US -14.2710 -170.1320  1/23/20   \n1  66.0                      Guam             US  13.4443  144.7937  1/23/20   \n2  69.0  Northern Mariana Islands             US  15.0979  145.6739  1/23/20   \n3  72.0               Puerto Rico             US  18.2208  -66.5901  1/23/20   \n4  78.0            Virgin Islands             US  18.3358  -64.8963  1/23/20   \n\n   Confirmed  Deaths  \n0          0       0  \n1          0       0  \n2          0       0  \n3          0       0  \n4          0       0  "
                    },
                    "execution_count": 29,
                    "metadata": {},
                    "output_type": "execute_result"
                }
            ],
            "source": "#get state level data first\nstate_data = us_only[us_only['FIPS'].apply(lambda x: len(str(x)) == 4)]\nstate_data.head()"
        },
        {
            "cell_type": "code",
            "execution_count": 43,
            "metadata": {},
            "outputs": [
                {
                    "data": {
                        "text/html": "<div>\n<style scoped>\n    .dataframe tbody tr th:only-of-type {\n        vertical-align: middle;\n    }\n\n    .dataframe tbody tr th {\n        vertical-align: top;\n    }\n\n    .dataframe thead th {\n        text-align: right;\n    }\n</style>\n<table border=\"1\" class=\"dataframe\">\n  <thead>\n    <tr style=\"text-align: right;\">\n      <th></th>\n      <th>FIPS</th>\n      <th>Province_State</th>\n      <th>Country_Region</th>\n      <th>Lat</th>\n      <th>Long_</th>\n      <th>Date</th>\n      <th>Confirmed</th>\n      <th>Deaths</th>\n    </tr>\n  </thead>\n  <tbody>\n    <tr>\n      <th>5</th>\n      <td>1001.0</td>\n      <td>Alabama</td>\n      <td>US</td>\n      <td>32.539527</td>\n      <td>-86.644082</td>\n      <td>1/23/20</td>\n      <td>0</td>\n      <td>0</td>\n    </tr>\n    <tr>\n      <th>6</th>\n      <td>1003.0</td>\n      <td>Alabama</td>\n      <td>US</td>\n      <td>30.727750</td>\n      <td>-87.722071</td>\n      <td>1/23/20</td>\n      <td>0</td>\n      <td>0</td>\n    </tr>\n    <tr>\n      <th>7</th>\n      <td>1005.0</td>\n      <td>Alabama</td>\n      <td>US</td>\n      <td>31.868263</td>\n      <td>-85.387129</td>\n      <td>1/23/20</td>\n      <td>0</td>\n      <td>0</td>\n    </tr>\n    <tr>\n      <th>8</th>\n      <td>1007.0</td>\n      <td>Alabama</td>\n      <td>US</td>\n      <td>32.996421</td>\n      <td>-87.125115</td>\n      <td>1/23/20</td>\n      <td>0</td>\n      <td>0</td>\n    </tr>\n    <tr>\n      <th>9</th>\n      <td>1009.0</td>\n      <td>Alabama</td>\n      <td>US</td>\n      <td>33.982109</td>\n      <td>-86.567906</td>\n      <td>1/23/20</td>\n      <td>0</td>\n      <td>0</td>\n    </tr>\n  </tbody>\n</table>\n</div>",
                        "text/plain": "     FIPS Province_State Country_Region        Lat      Long_     Date  \\\n5  1001.0        Alabama             US  32.539527 -86.644082  1/23/20   \n6  1003.0        Alabama             US  30.727750 -87.722071  1/23/20   \n7  1005.0        Alabama             US  31.868263 -85.387129  1/23/20   \n8  1007.0        Alabama             US  32.996421 -87.125115  1/23/20   \n9  1009.0        Alabama             US  33.982109 -86.567906  1/23/20   \n\n   Confirmed  Deaths  \n5          0       0  \n6          0       0  \n7          0       0  \n8          0       0  \n9          0       0  "
                    },
                    "execution_count": 43,
                    "metadata": {},
                    "output_type": "execute_result"
                }
            ],
            "source": "#get county level data \ncounty_data = us_only[us_only['FIPS'].apply(lambda x: len(str(x)) > 4)]\ncounty_data.head()"
        },
        {
            "cell_type": "code",
            "execution_count": 33,
            "metadata": {},
            "outputs": [
                {
                    "data": {
                        "text/plain": "'UID_ISO_FIPS_LookUp_Table.csv'"
                    },
                    "execution_count": 33,
                    "metadata": {},
                    "output_type": "execute_result"
                }
            ],
            "source": "#bring in csv to get county names\nurls = ['https://raw.githubusercontent.com/CSSEGISandData/COVID-19/master/csse_covid_19_data/UID_ISO_FIPS_LookUp_Table.csv']\nfor url in urls:\n    filename = wget.download(url)\nfilename"
        },
        {
            "cell_type": "code",
            "execution_count": 44,
            "metadata": {},
            "outputs": [
                {
                    "data": {
                        "text/html": "<div>\n<style scoped>\n    .dataframe tbody tr th:only-of-type {\n        vertical-align: middle;\n    }\n\n    .dataframe tbody tr th {\n        vertical-align: top;\n    }\n\n    .dataframe thead th {\n        text-align: right;\n    }\n</style>\n<table border=\"1\" class=\"dataframe\">\n  <thead>\n    <tr style=\"text-align: right;\">\n      <th></th>\n      <th>UID</th>\n      <th>iso2</th>\n      <th>iso3</th>\n      <th>code3</th>\n      <th>FIPS</th>\n      <th>Admin2</th>\n      <th>Province_State</th>\n      <th>Country_Region</th>\n      <th>Lat</th>\n      <th>Long_</th>\n      <th>Combined_Key</th>\n      <th>Population</th>\n    </tr>\n  </thead>\n  <tbody>\n    <tr>\n      <th>0</th>\n      <td>4</td>\n      <td>AF</td>\n      <td>AFG</td>\n      <td>4.0</td>\n      <td>NaN</td>\n      <td>NaN</td>\n      <td>NaN</td>\n      <td>Afghanistan</td>\n      <td>33.93911</td>\n      <td>67.709953</td>\n      <td>Afghanistan</td>\n      <td>38928341.0</td>\n    </tr>\n    <tr>\n      <th>1</th>\n      <td>8</td>\n      <td>AL</td>\n      <td>ALB</td>\n      <td>8.0</td>\n      <td>NaN</td>\n      <td>NaN</td>\n      <td>NaN</td>\n      <td>Albania</td>\n      <td>41.15330</td>\n      <td>20.168300</td>\n      <td>Albania</td>\n      <td>2877800.0</td>\n    </tr>\n    <tr>\n      <th>2</th>\n      <td>12</td>\n      <td>DZ</td>\n      <td>DZA</td>\n      <td>12.0</td>\n      <td>NaN</td>\n      <td>NaN</td>\n      <td>NaN</td>\n      <td>Algeria</td>\n      <td>28.03390</td>\n      <td>1.659600</td>\n      <td>Algeria</td>\n      <td>43851043.0</td>\n    </tr>\n    <tr>\n      <th>3</th>\n      <td>20</td>\n      <td>AD</td>\n      <td>AND</td>\n      <td>20.0</td>\n      <td>NaN</td>\n      <td>NaN</td>\n      <td>NaN</td>\n      <td>Andorra</td>\n      <td>42.50630</td>\n      <td>1.521800</td>\n      <td>Andorra</td>\n      <td>77265.0</td>\n    </tr>\n    <tr>\n      <th>4</th>\n      <td>24</td>\n      <td>AO</td>\n      <td>AGO</td>\n      <td>24.0</td>\n      <td>NaN</td>\n      <td>NaN</td>\n      <td>NaN</td>\n      <td>Angola</td>\n      <td>-11.20270</td>\n      <td>17.873900</td>\n      <td>Angola</td>\n      <td>32866268.0</td>\n    </tr>\n  </tbody>\n</table>\n</div>",
                        "text/plain": "   UID iso2 iso3  code3  FIPS Admin2 Province_State Country_Region       Lat  \\\n0    4   AF  AFG    4.0   NaN    NaN            NaN    Afghanistan  33.93911   \n1    8   AL  ALB    8.0   NaN    NaN            NaN        Albania  41.15330   \n2   12   DZ  DZA   12.0   NaN    NaN            NaN        Algeria  28.03390   \n3   20   AD  AND   20.0   NaN    NaN            NaN        Andorra  42.50630   \n4   24   AO  AGO   24.0   NaN    NaN            NaN         Angola -11.20270   \n\n       Long_ Combined_Key  Population  \n0  67.709953  Afghanistan  38928341.0  \n1  20.168300      Albania   2877800.0  \n2   1.659600      Algeria  43851043.0  \n3   1.521800      Andorra     77265.0  \n4  17.873900       Angola  32866268.0  "
                    },
                    "execution_count": 44,
                    "metadata": {},
                    "output_type": "execute_result"
                }
            ],
            "source": "lookup = pd.read_csv('UID_ISO_FIPS_LookUp_Table.csv')\nlookup.head()"
        },
        {
            "cell_type": "code",
            "execution_count": 45,
            "metadata": {},
            "outputs": [
                {
                    "data": {
                        "text/html": "<div>\n<style scoped>\n    .dataframe tbody tr th:only-of-type {\n        vertical-align: middle;\n    }\n\n    .dataframe tbody tr th {\n        vertical-align: top;\n    }\n\n    .dataframe thead th {\n        text-align: right;\n    }\n</style>\n<table border=\"1\" class=\"dataframe\">\n  <thead>\n    <tr style=\"text-align: right;\">\n      <th></th>\n      <th>FIPS</th>\n      <th>Province_State_x</th>\n      <th>Country_Region_x</th>\n      <th>Lat_x</th>\n      <th>Long__x</th>\n      <th>Date</th>\n      <th>Confirmed</th>\n      <th>Deaths</th>\n      <th>UID</th>\n      <th>iso2</th>\n      <th>iso3</th>\n      <th>code3</th>\n      <th>Admin2</th>\n      <th>Province_State_y</th>\n      <th>Country_Region_y</th>\n      <th>Lat_y</th>\n      <th>Long__y</th>\n      <th>Combined_Key</th>\n      <th>Population</th>\n    </tr>\n  </thead>\n  <tbody>\n    <tr>\n      <th>0</th>\n      <td>1001.0</td>\n      <td>Alabama</td>\n      <td>US</td>\n      <td>32.539527</td>\n      <td>-86.644082</td>\n      <td>1/23/20</td>\n      <td>0</td>\n      <td>0</td>\n      <td>84001001</td>\n      <td>US</td>\n      <td>USA</td>\n      <td>840.0</td>\n      <td>Autauga</td>\n      <td>Alabama</td>\n      <td>US</td>\n      <td>32.539527</td>\n      <td>-86.644082</td>\n      <td>Autauga, Alabama, US</td>\n      <td>55869.0</td>\n    </tr>\n    <tr>\n      <th>1</th>\n      <td>1001.0</td>\n      <td>Alabama</td>\n      <td>US</td>\n      <td>32.539527</td>\n      <td>-86.644082</td>\n      <td>1/24/20</td>\n      <td>0</td>\n      <td>0</td>\n      <td>84001001</td>\n      <td>US</td>\n      <td>USA</td>\n      <td>840.0</td>\n      <td>Autauga</td>\n      <td>Alabama</td>\n      <td>US</td>\n      <td>32.539527</td>\n      <td>-86.644082</td>\n      <td>Autauga, Alabama, US</td>\n      <td>55869.0</td>\n    </tr>\n    <tr>\n      <th>2</th>\n      <td>1001.0</td>\n      <td>Alabama</td>\n      <td>US</td>\n      <td>32.539527</td>\n      <td>-86.644082</td>\n      <td>1/25/20</td>\n      <td>0</td>\n      <td>0</td>\n      <td>84001001</td>\n      <td>US</td>\n      <td>USA</td>\n      <td>840.0</td>\n      <td>Autauga</td>\n      <td>Alabama</td>\n      <td>US</td>\n      <td>32.539527</td>\n      <td>-86.644082</td>\n      <td>Autauga, Alabama, US</td>\n      <td>55869.0</td>\n    </tr>\n    <tr>\n      <th>3</th>\n      <td>1001.0</td>\n      <td>Alabama</td>\n      <td>US</td>\n      <td>32.539527</td>\n      <td>-86.644082</td>\n      <td>1/26/20</td>\n      <td>0</td>\n      <td>0</td>\n      <td>84001001</td>\n      <td>US</td>\n      <td>USA</td>\n      <td>840.0</td>\n      <td>Autauga</td>\n      <td>Alabama</td>\n      <td>US</td>\n      <td>32.539527</td>\n      <td>-86.644082</td>\n      <td>Autauga, Alabama, US</td>\n      <td>55869.0</td>\n    </tr>\n    <tr>\n      <th>4</th>\n      <td>1001.0</td>\n      <td>Alabama</td>\n      <td>US</td>\n      <td>32.539527</td>\n      <td>-86.644082</td>\n      <td>1/27/20</td>\n      <td>0</td>\n      <td>0</td>\n      <td>84001001</td>\n      <td>US</td>\n      <td>USA</td>\n      <td>840.0</td>\n      <td>Autauga</td>\n      <td>Alabama</td>\n      <td>US</td>\n      <td>32.539527</td>\n      <td>-86.644082</td>\n      <td>Autauga, Alabama, US</td>\n      <td>55869.0</td>\n    </tr>\n  </tbody>\n</table>\n</div>",
                        "text/plain": "     FIPS Province_State_x Country_Region_x      Lat_x    Long__x     Date  \\\n0  1001.0          Alabama               US  32.539527 -86.644082  1/23/20   \n1  1001.0          Alabama               US  32.539527 -86.644082  1/24/20   \n2  1001.0          Alabama               US  32.539527 -86.644082  1/25/20   \n3  1001.0          Alabama               US  32.539527 -86.644082  1/26/20   \n4  1001.0          Alabama               US  32.539527 -86.644082  1/27/20   \n\n   Confirmed  Deaths       UID iso2 iso3  code3   Admin2 Province_State_y  \\\n0          0       0  84001001   US  USA  840.0  Autauga          Alabama   \n1          0       0  84001001   US  USA  840.0  Autauga          Alabama   \n2          0       0  84001001   US  USA  840.0  Autauga          Alabama   \n3          0       0  84001001   US  USA  840.0  Autauga          Alabama   \n4          0       0  84001001   US  USA  840.0  Autauga          Alabama   \n\n  Country_Region_y      Lat_y    Long__y          Combined_Key  Population  \n0               US  32.539527 -86.644082  Autauga, Alabama, US     55869.0  \n1               US  32.539527 -86.644082  Autauga, Alabama, US     55869.0  \n2               US  32.539527 -86.644082  Autauga, Alabama, US     55869.0  \n3               US  32.539527 -86.644082  Autauga, Alabama, US     55869.0  \n4               US  32.539527 -86.644082  Autauga, Alabama, US     55869.0  "
                    },
                    "execution_count": 45,
                    "metadata": {},
                    "output_type": "execute_result"
                }
            ],
            "source": "#merge to get the county name on the county level records\ncounty_data = pd.merge(county_data, lookup, on='FIPS')\ncounty_data.head()"
        },
        {
            "cell_type": "code",
            "execution_count": 46,
            "metadata": {},
            "outputs": [
                {
                    "data": {
                        "text/html": "<div>\n<style scoped>\n    .dataframe tbody tr th:only-of-type {\n        vertical-align: middle;\n    }\n\n    .dataframe tbody tr th {\n        vertical-align: top;\n    }\n\n    .dataframe thead th {\n        text-align: right;\n    }\n</style>\n<table border=\"1\" class=\"dataframe\">\n  <thead>\n    <tr style=\"text-align: right;\">\n      <th></th>\n      <th>FIPS</th>\n      <th>County</th>\n      <th>Province_State</th>\n      <th>Country_Region</th>\n      <th>Date</th>\n      <th>Lat</th>\n      <th>Long</th>\n      <th>Confirmed</th>\n      <th>Deaths</th>\n    </tr>\n  </thead>\n  <tbody>\n    <tr>\n      <th>0</th>\n      <td>1001.0</td>\n      <td>Autauga</td>\n      <td>Alabama</td>\n      <td>US</td>\n      <td>1/23/20</td>\n      <td>32.539527</td>\n      <td>-86.644082</td>\n      <td>0</td>\n      <td>0</td>\n    </tr>\n    <tr>\n      <th>1</th>\n      <td>1001.0</td>\n      <td>Autauga</td>\n      <td>Alabama</td>\n      <td>US</td>\n      <td>1/24/20</td>\n      <td>32.539527</td>\n      <td>-86.644082</td>\n      <td>0</td>\n      <td>0</td>\n    </tr>\n    <tr>\n      <th>2</th>\n      <td>1001.0</td>\n      <td>Autauga</td>\n      <td>Alabama</td>\n      <td>US</td>\n      <td>1/25/20</td>\n      <td>32.539527</td>\n      <td>-86.644082</td>\n      <td>0</td>\n      <td>0</td>\n    </tr>\n    <tr>\n      <th>3</th>\n      <td>1001.0</td>\n      <td>Autauga</td>\n      <td>Alabama</td>\n      <td>US</td>\n      <td>1/26/20</td>\n      <td>32.539527</td>\n      <td>-86.644082</td>\n      <td>0</td>\n      <td>0</td>\n    </tr>\n    <tr>\n      <th>4</th>\n      <td>1001.0</td>\n      <td>Autauga</td>\n      <td>Alabama</td>\n      <td>US</td>\n      <td>1/27/20</td>\n      <td>32.539527</td>\n      <td>-86.644082</td>\n      <td>0</td>\n      <td>0</td>\n    </tr>\n  </tbody>\n</table>\n</div>",
                        "text/plain": "     FIPS   County Province_State Country_Region     Date        Lat  \\\n0  1001.0  Autauga        Alabama             US  1/23/20  32.539527   \n1  1001.0  Autauga        Alabama             US  1/24/20  32.539527   \n2  1001.0  Autauga        Alabama             US  1/25/20  32.539527   \n3  1001.0  Autauga        Alabama             US  1/26/20  32.539527   \n4  1001.0  Autauga        Alabama             US  1/27/20  32.539527   \n\n        Long  Confirmed  Deaths  \n0 -86.644082          0       0  \n1 -86.644082          0       0  \n2 -86.644082          0       0  \n3 -86.644082          0       0  \n4 -86.644082          0       0  "
                    },
                    "execution_count": 46,
                    "metadata": {},
                    "output_type": "execute_result"
                }
            ],
            "source": "#select just a few of the necessary colums & cleanup the column names\ncounty_data = county_data[['FIPS','Admin2','Province_State_x','Country_Region_x', 'Date', 'Lat_x', 'Long__x', 'Confirmed', 'Deaths']]\ncounty_data['County']=county_data['Admin2']\ncounty_data['Province_State'] = county_data['Province_State_x']\ncounty_data['Country_Region'] = county_data['Country_Region_x']\ncounty_data['Lat'] = county_data['Lat_x']\ncounty_data['Long'] = county_data['Long__x']\ncounty_data = county_data[['FIPS','County','Province_State','Country_Region', 'Date', 'Lat', 'Long', 'Confirmed', 'Deaths']]\ncounty_data.head()"
        },
        {
            "cell_type": "code",
            "execution_count": 47,
            "metadata": {},
            "outputs": [
                {
                    "name": "stdout",
                    "output_type": "stream",
                    "text": "<class 'pandas.core.frame.DataFrame'>\nInt64Index: 380 entries, 0 to 243979\nData columns (total 8 columns):\nFIPS              380 non-null float64\nProvince_State    380 non-null object\nCountry_Region    380 non-null object\nLat               380 non-null float64\nLong_             380 non-null float64\nDate              380 non-null object\nConfirmed         380 non-null int64\nDeaths            380 non-null int64\ndtypes: float64(3), int64(2), object(3)\nmemory usage: 26.7+ KB\n"
                }
            ],
            "source": "state_data.info()"
        },
        {
            "cell_type": "code",
            "execution_count": 48,
            "metadata": {},
            "outputs": [
                {
                    "name": "stdout",
                    "output_type": "stream",
                    "text": "<class 'pandas.core.frame.DataFrame'>\nInt64Index: 246696 entries, 0 to 246695\nData columns (total 9 columns):\nFIPS              246696 non-null float64\nCounty            246544 non-null object\nProvince_State    246696 non-null object\nCountry_Region    246696 non-null object\nDate              246696 non-null object\nLat               246696 non-null float64\nLong              246696 non-null float64\nConfirmed         246696 non-null int64\nDeaths            246696 non-null int64\ndtypes: float64(3), int64(2), object(4)\nmemory usage: 18.8+ MB\n"
                }
            ],
            "source": "county_data.info()"
        },
        {
            "cell_type": "code",
            "execution_count": 49,
            "metadata": {},
            "outputs": [
                {
                    "data": {
                        "text/plain": "{'file_name': 'county_data_jh.csv',\n 'message': 'File saved to project storage.',\n 'bucket_name': 'covid19-donotdelete-pr-ysdyv5czxoifrj',\n 'asset_id': '4b11ac40-adf0-437a-b9a6-a0cc759fa95e'}"
                    },
                    "execution_count": 49,
                    "metadata": {},
                    "output_type": "execute_result"
                }
            ],
            "source": "# The code was removed by Watson Studio for sharing."
        },
        {
            "cell_type": "code",
            "execution_count": 50,
            "metadata": {},
            "outputs": [
                {
                    "data": {
                        "text/plain": "{'file_name': 'state_data_jh.csv',\n 'message': 'File saved to project storage.',\n 'bucket_name': 'covid19-donotdelete-pr-ysdyv5czxoifrj',\n 'asset_id': '76747afb-787c-4493-9315-90f89a6022fb'}"
                    },
                    "execution_count": 50,
                    "metadata": {},
                    "output_type": "execute_result"
                }
            ],
            "source": "# The code was removed by Watson Studio for sharing."
        }
    ],
    "metadata": {
        "kernelspec": {
            "display_name": "Python 3.6",
            "language": "python",
            "name": "python3"
        },
        "language_info": {
            "codemirror_mode": {
                "name": "ipython",
                "version": 3
            },
            "file_extension": ".py",
            "mimetype": "text/x-python",
            "name": "python",
            "nbconvert_exporter": "python",
            "pygments_lexer": "ipython3",
            "version": "3.6.9"
        }
    },
    "nbformat": 4,
    "nbformat_minor": 1
}