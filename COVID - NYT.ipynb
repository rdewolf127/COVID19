{
    "cells": [
        {
            "cell_type": "code",
            "execution_count": 2,
            "metadata": {},
            "outputs": [],
            "source": "# The code was removed by Watson Studio for sharing."
        },
        {
            "cell_type": "code",
            "execution_count": 3,
            "metadata": {},
            "outputs": [
                {
                    "name": "stdout",
                    "output_type": "stream",
                    "text": "Requirement already satisfied: wget in /opt/conda/envs/Python36/lib/python3.6/site-packages (3.2)\r\n"
                }
            ],
            "source": "import pandas as pd\nimport numpy as np\n!pip install 'wget'\nimport wget"
        },
        {
            "cell_type": "code",
            "execution_count": 4,
            "metadata": {},
            "outputs": [],
            "source": "urls = ['https://raw.githubusercontent.com/nytimes/COVID-19-data/master/us-counties.csv', \n        'https://raw.githubusercontent.com/nytimes/COVID-19-data/master/us-states.csv']\nfor url in urls:\n    filename = wget.download(url)"
        },
        {
            "cell_type": "code",
            "execution_count": 5,
            "metadata": {},
            "outputs": [],
            "source": "counties = pd.read_csv('us-counties.csv')\nstates = pd.read_csv('us-states.csv')"
        },
        {
            "cell_type": "code",
            "execution_count": 6,
            "metadata": {},
            "outputs": [
                {
                    "data": {
                        "text/html": "<div>\n<style scoped>\n    .dataframe tbody tr th:only-of-type {\n        vertical-align: middle;\n    }\n\n    .dataframe tbody tr th {\n        vertical-align: top;\n    }\n\n    .dataframe thead th {\n        text-align: right;\n    }\n</style>\n<table border=\"1\" class=\"dataframe\">\n  <thead>\n    <tr style=\"text-align: right;\">\n      <th></th>\n      <th>date</th>\n      <th>state</th>\n      <th>fips</th>\n      <th>cases</th>\n      <th>deaths</th>\n    </tr>\n  </thead>\n  <tbody>\n    <tr>\n      <th>0</th>\n      <td>2020-01-21</td>\n      <td>Washington</td>\n      <td>53</td>\n      <td>1</td>\n      <td>0</td>\n    </tr>\n    <tr>\n      <th>1</th>\n      <td>2020-01-22</td>\n      <td>Washington</td>\n      <td>53</td>\n      <td>1</td>\n      <td>0</td>\n    </tr>\n    <tr>\n      <th>2</th>\n      <td>2020-01-23</td>\n      <td>Washington</td>\n      <td>53</td>\n      <td>1</td>\n      <td>0</td>\n    </tr>\n    <tr>\n      <th>3</th>\n      <td>2020-01-24</td>\n      <td>Illinois</td>\n      <td>17</td>\n      <td>1</td>\n      <td>0</td>\n    </tr>\n    <tr>\n      <th>4</th>\n      <td>2020-01-24</td>\n      <td>Washington</td>\n      <td>53</td>\n      <td>1</td>\n      <td>0</td>\n    </tr>\n  </tbody>\n</table>\n</div>",
                        "text/plain": "         date       state  fips  cases  deaths\n0  2020-01-21  Washington    53      1       0\n1  2020-01-22  Washington    53      1       0\n2  2020-01-23  Washington    53      1       0\n3  2020-01-24    Illinois    17      1       0\n4  2020-01-24  Washington    53      1       0"
                    },
                    "execution_count": 6,
                    "metadata": {},
                    "output_type": "execute_result"
                }
            ],
            "source": "#view state data\nstates.head()"
        },
        {
            "cell_type": "code",
            "execution_count": 7,
            "metadata": {},
            "outputs": [
                {
                    "data": {
                        "text/html": "<div>\n<style scoped>\n    .dataframe tbody tr th:only-of-type {\n        vertical-align: middle;\n    }\n\n    .dataframe tbody tr th {\n        vertical-align: top;\n    }\n\n    .dataframe thead th {\n        text-align: right;\n    }\n</style>\n<table border=\"1\" class=\"dataframe\">\n  <thead>\n    <tr style=\"text-align: right;\">\n      <th></th>\n      <th>date</th>\n      <th>county</th>\n      <th>state</th>\n      <th>fips</th>\n      <th>cases</th>\n      <th>deaths</th>\n    </tr>\n  </thead>\n  <tbody>\n    <tr>\n      <th>0</th>\n      <td>2020-01-21</td>\n      <td>Snohomish</td>\n      <td>Washington</td>\n      <td>53061.0</td>\n      <td>1</td>\n      <td>0</td>\n    </tr>\n    <tr>\n      <th>1</th>\n      <td>2020-01-22</td>\n      <td>Snohomish</td>\n      <td>Washington</td>\n      <td>53061.0</td>\n      <td>1</td>\n      <td>0</td>\n    </tr>\n    <tr>\n      <th>2</th>\n      <td>2020-01-23</td>\n      <td>Snohomish</td>\n      <td>Washington</td>\n      <td>53061.0</td>\n      <td>1</td>\n      <td>0</td>\n    </tr>\n    <tr>\n      <th>3</th>\n      <td>2020-01-24</td>\n      <td>Cook</td>\n      <td>Illinois</td>\n      <td>17031.0</td>\n      <td>1</td>\n      <td>0</td>\n    </tr>\n    <tr>\n      <th>4</th>\n      <td>2020-01-24</td>\n      <td>Snohomish</td>\n      <td>Washington</td>\n      <td>53061.0</td>\n      <td>1</td>\n      <td>0</td>\n    </tr>\n  </tbody>\n</table>\n</div>",
                        "text/plain": "         date     county       state     fips  cases  deaths\n0  2020-01-21  Snohomish  Washington  53061.0      1       0\n1  2020-01-22  Snohomish  Washington  53061.0      1       0\n2  2020-01-23  Snohomish  Washington  53061.0      1       0\n3  2020-01-24       Cook    Illinois  17031.0      1       0\n4  2020-01-24  Snohomish  Washington  53061.0      1       0"
                    },
                    "execution_count": 7,
                    "metadata": {},
                    "output_type": "execute_result"
                }
            ],
            "source": "#view county data\ncounties.head()"
        },
        {
            "cell_type": "code",
            "execution_count": 8,
            "metadata": {},
            "outputs": [
                {
                    "data": {
                        "text/plain": "'statelatlon.csv'"
                    },
                    "execution_count": 8,
                    "metadata": {},
                    "output_type": "execute_result"
                }
            ],
            "source": "#bring in csv to map state abbreviations to full names\nurls = ['https://raw.githubusercontent.com/rdewolf127/DataVisualization611/master/statelatlon.csv']\nfor url in urls:\n    filename = wget.download(url)\nfilename"
        },
        {
            "cell_type": "code",
            "execution_count": 9,
            "metadata": {},
            "outputs": [
                {
                    "data": {
                        "text/html": "<div>\n<style scoped>\n    .dataframe tbody tr th:only-of-type {\n        vertical-align: middle;\n    }\n\n    .dataframe tbody tr th {\n        vertical-align: top;\n    }\n\n    .dataframe thead th {\n        text-align: right;\n    }\n</style>\n<table border=\"1\" class=\"dataframe\">\n  <thead>\n    <tr style=\"text-align: right;\">\n      <th></th>\n      <th>State</th>\n      <th>Latitude</th>\n      <th>Longitude</th>\n      <th>ABBREVIATION</th>\n      <th>GEOID</th>\n      <th>state</th>\n    </tr>\n  </thead>\n  <tbody>\n    <tr>\n      <th>0</th>\n      <td>Alabama</td>\n      <td>32.806671</td>\n      <td>-86.791130</td>\n      <td>AL</td>\n      <td>1</td>\n      <td>Alabama</td>\n    </tr>\n    <tr>\n      <th>1</th>\n      <td>Alaska</td>\n      <td>61.370716</td>\n      <td>-152.404419</td>\n      <td>AK</td>\n      <td>2</td>\n      <td>Alaska</td>\n    </tr>\n    <tr>\n      <th>2</th>\n      <td>Arizona</td>\n      <td>33.729759</td>\n      <td>-111.431221</td>\n      <td>AZ</td>\n      <td>4</td>\n      <td>Arizona</td>\n    </tr>\n    <tr>\n      <th>3</th>\n      <td>Arkansas</td>\n      <td>34.969704</td>\n      <td>-92.373123</td>\n      <td>AR</td>\n      <td>5</td>\n      <td>Arkansas</td>\n    </tr>\n    <tr>\n      <th>4</th>\n      <td>California</td>\n      <td>36.116203</td>\n      <td>-119.681564</td>\n      <td>CA</td>\n      <td>6</td>\n      <td>California</td>\n    </tr>\n  </tbody>\n</table>\n</div>",
                        "text/plain": "        State   Latitude   Longitude ABBREVIATION  GEOID       state\n0     Alabama  32.806671  -86.791130           AL      1     Alabama\n1      Alaska  61.370716 -152.404419           AK      2      Alaska\n2     Arizona  33.729759 -111.431221           AZ      4     Arizona\n3    Arkansas  34.969704  -92.373123           AR      5    Arkansas\n4  California  36.116203 -119.681564           CA      6  California"
                    },
                    "execution_count": 9,
                    "metadata": {},
                    "output_type": "execute_result"
                }
            ],
            "source": "state_geo = pd.read_csv('statelatlon.csv')\nstate_geo['state']=state_geo['State']\nstate_geo.head()"
        },
        {
            "cell_type": "code",
            "execution_count": 10,
            "metadata": {},
            "outputs": [
                {
                    "name": "stdout",
                    "output_type": "stream",
                    "text": "<class 'pandas.core.frame.DataFrame'>\nRangeIndex: 1939 entries, 0 to 1938\nData columns (total 5 columns):\ndate      1939 non-null object\nstate     1939 non-null object\nfips      1939 non-null int64\ncases     1939 non-null int64\ndeaths    1939 non-null int64\ndtypes: int64(3), object(2)\nmemory usage: 75.8+ KB\n"
                }
            ],
            "source": "states.info()"
        },
        {
            "cell_type": "code",
            "execution_count": 11,
            "metadata": {},
            "outputs": [
                {
                    "name": "stdout",
                    "output_type": "stream",
                    "text": "<class 'pandas.core.frame.DataFrame'>\nRangeIndex: 38197 entries, 0 to 38196\nData columns (total 6 columns):\ndate      38197 non-null object\ncounty    38197 non-null object\nstate     38197 non-null object\nfips      37648 non-null float64\ncases     38197 non-null int64\ndeaths    38197 non-null int64\ndtypes: float64(1), int64(2), object(3)\nmemory usage: 1.7+ MB\n"
                }
            ],
            "source": "counties.info()"
        },
        {
            "cell_type": "code",
            "execution_count": 13,
            "metadata": {},
            "outputs": [
                {
                    "data": {
                        "text/plain": "{'file_name': 'state_data.csv',\n 'message': 'File saved to project storage.',\n 'bucket_name': 'covid19-donotdelete-pr-ysdyv5czxoifrj',\n 'asset_id': '6ee2df8c-6180-49d5-9959-d7a8ef9d89e8'}"
                    },
                    "execution_count": 13,
                    "metadata": {},
                    "output_type": "execute_result"
                }
            ],
            "source": "#from project_lib import Project\nproject = Project(\"covid19-donotdelete-pr-ysdyv5czxoifrj\",\"ef868927-b989-4aa5-b2ad-753b69d00eb5\",\"p-a323bb79303649f1b354d3416d15f0b502d52507\")\ndf = states\ndf\nproject.save_data(file_name = \"state_data.csv\",data = df.to_csv(index=False))"
        },
        {
            "cell_type": "code",
            "execution_count": 14,
            "metadata": {},
            "outputs": [
                {
                    "data": {
                        "text/plain": "{'file_name': 'county_data.csv',\n 'message': 'File saved to project storage.',\n 'bucket_name': 'covid19-donotdelete-pr-ysdyv5czxoifrj',\n 'asset_id': '48df07d4-76e9-4e63-9da8-045b7556303e'}"
                    },
                    "execution_count": 14,
                    "metadata": {},
                    "output_type": "execute_result"
                }
            ],
            "source": "#from project_lib import Project\nproject = Project(\"covid19-donotdelete-pr-ysdyv5czxoifrj\",\"ef868927-b989-4aa5-b2ad-753b69d00eb5\",\"p-a323bb79303649f1b354d3416d15f0b502d52507\")\ndf = counties\ndf\nproject.save_data(file_name = \"county_data.csv\",data = df.to_csv(index=False))"
        },
        {
            "cell_type": "code",
            "execution_count": null,
            "metadata": {},
            "outputs": [],
            "source": "#from project_lib import Project\nproject = Project(\"covid19-donotdelete-pr-ysdyv5czxoifrj\",\"ef868927-b989-4aa5-b2ad-753b69d00eb5\",\"p-a323bb79303649f1b354d3416d15f0b502d52507\")\ndf = state_geo\ndf\nproject.save_data(file_name = \"state_geo.csv\",data = df.to_csv(index=False))"
        }
    ],
    "metadata": {
        "kernelspec": {
            "display_name": "Python 3.6",
            "language": "python",
            "name": "python3"
        },
        "language_info": {
            "codemirror_mode": {
                "name": "ipython",
                "version": 3
            },
            "file_extension": ".py",
            "mimetype": "text/x-python",
            "name": "python",
            "nbconvert_exporter": "python",
            "pygments_lexer": "ipython3",
            "version": "3.6.9"
        }
    },
    "nbformat": 4,
    "nbformat_minor": 1
}