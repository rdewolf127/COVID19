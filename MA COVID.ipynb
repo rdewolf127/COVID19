{
    "cells": [
        {
            "cell_type": "code",
            "execution_count": 1,
            "metadata": {},
            "outputs": [],
            "source": "# The code was removed by Watson Studio for sharing."
        },
        {
            "cell_type": "code",
            "execution_count": 22,
            "metadata": {},
            "outputs": [
                {
                    "name": "stdout",
                    "output_type": "stream",
                    "text": "Requirement already satisfied: pycountry in /opt/conda/envs/Python36/lib/python3.6/site-packages (19.8.18)\nRequirement already satisfied: wget in /opt/conda/envs/Python36/lib/python3.6/site-packages (3.2)\nCollecting ibmos2spark\n  Downloading https://files.pythonhosted.org/packages/c6/81/1edb24382edef1ca636e87972b2da286b8271a586c728a21f916d3cd76cd/ibmos2spark-1.0.1-py2.py3-none-any.whl\nInstalling collected packages: ibmos2spark\nSuccessfully installed ibmos2spark-1.0.1\n"
                }
            ],
            "source": "#Data Extracted from The COVID Tracking Project (as of 4/8/2020)\n#https://covidtracking.com/\nimport pandas as pd\nimport numpy as np\nimport requests\nimport json\nimport datetime\n!pip install pycountry\nimport pycountry\n!pip install 'wget'\nimport wget\nimport datetime\n!pip install 'ibmos2spark'\nimport ibmos2spark"
        },
        {
            "cell_type": "code",
            "execution_count": 3,
            "metadata": {},
            "outputs": [],
            "source": "raw_response = requests.get(\"https://covidtracking.com/api/states/daily\").text\nraw_data = pd.DataFrame.from_dict(json.loads(raw_response))"
        },
        {
            "cell_type": "code",
            "execution_count": 4,
            "metadata": {},
            "outputs": [],
            "source": "data = raw_data.fillna(0)\ndata['Date'] = pd.to_datetime(data['date'].astype(str), format='%Y%m%d')\ndata = data.rename(\n    columns={\n        \"state\": \"ISO3166-2\",\n        \"positive\": \"Positive\",\n        \"negative\": \"Negative\",\n        \"pending\": \"Pending\",\n        \"death\": \"Death\",\n        \"totalTestResults\": \"Total\",\n        \"hospitalized\": \"Hospitalized\"\n    })\ndata = data.drop(labels=['dateChecked', \"date\"], axis='columns')\ndata['Country/Region'] = \"United States\"\ndata['ISO3166-1'] = \"US\""
        },
        {
            "cell_type": "code",
            "execution_count": 5,
            "metadata": {},
            "outputs": [],
            "source": "states = {k.code.replace(\"US-\", \"\"): k.name for k in pycountry.subdivisions.get(country_code=\"US\")}"
        },
        {
            "cell_type": "code",
            "execution_count": 6,
            "metadata": {},
            "outputs": [],
            "source": "data[\"Province/State\"] = data[\"ISO3166-2\"].apply(lambda x: states[x])"
        },
        {
            "cell_type": "code",
            "execution_count": 7,
            "metadata": {},
            "outputs": [
                {
                    "name": "stdout",
                    "output_type": "stream",
                    "text": "<class 'pandas.core.frame.DataFrame'>\nInt64Index: 6513 entries, 6341 to 55\nData columns (total 41 columns):\ncheckTimeEt                 6513 non-null object\ncommercialScore             6513 non-null int64\ndataQualityGrade            6513 non-null object\ndateModified                6513 non-null object\nDeath                       6513 non-null float64\ndeathIncrease               6513 non-null int64\nfips                        6513 non-null object\ngrade                       6513 non-null object\nhash                        6513 non-null object\nHospitalized                6513 non-null float64\nhospitalizedCumulative      6513 non-null float64\nhospitalizedCurrently       6513 non-null float64\nhospitalizedIncrease        6513 non-null int64\ninIcuCumulative             6513 non-null float64\ninIcuCurrently              6513 non-null float64\nlastUpdateEt                6513 non-null object\nNegative                    6513 non-null float64\nnegativeIncrease            6513 non-null int64\nnegativeRegularScore        6513 non-null int64\nnegativeScore               6513 non-null int64\nnegativeTestsViral          6513 non-null float64\nonVentilatorCumulative      6513 non-null float64\nonVentilatorCurrently       6513 non-null float64\nPending                     6513 non-null float64\nposNeg                      6513 non-null int64\nPositive                    6513 non-null float64\npositiveCasesViral          6513 non-null float64\npositiveIncrease            6513 non-null int64\npositiveScore               6513 non-null int64\npositiveTestsViral          6513 non-null float64\nrecovered                   6513 non-null float64\nscore                       6513 non-null int64\nISO3166-2                   6513 non-null object\ntotal                       6513 non-null int64\nTotal                       6513 non-null int64\ntotalTestResultsIncrease    6513 non-null int64\ntotalTestsViral             6513 non-null float64\nDate                        6513 non-null datetime64[ns]\nCountry/Region              6513 non-null object\nISO3166-1                   6513 non-null object\nProvince/State              6513 non-null object\ndtypes: datetime64[ns](1), float64(16), int64(13), object(11)\nmemory usage: 2.1+ MB\n"
                }
            ],
            "source": "sorted_data = data.sort_values(by=['Province/State'] + ['Date'], ascending=True)\nsorted_data.info()"
        },
        {
            "cell_type": "code",
            "execution_count": 51,
            "metadata": {},
            "outputs": [
                {
                    "data": {
                        "text/html": "<div>\n<style scoped>\n    .dataframe tbody tr th:only-of-type {\n        vertical-align: middle;\n    }\n\n    .dataframe tbody tr th {\n        vertical-align: top;\n    }\n\n    .dataframe thead th {\n        text-align: right;\n    }\n</style>\n<table border=\"1\" class=\"dataframe\">\n  <thead>\n    <tr style=\"text-align: right;\">\n      <th></th>\n      <th>Date</th>\n      <th>Province/State</th>\n      <th>Total</th>\n      <th>total</th>\n      <th>totalTestsViral</th>\n      <th>Positive</th>\n      <th>Negative</th>\n      <th>Pending</th>\n      <th>Death</th>\n    </tr>\n  </thead>\n  <tbody>\n    <tr>\n      <th>243</th>\n      <td>2020-06-25</td>\n      <td>Kentucky</td>\n      <td>342882</td>\n      <td>342882</td>\n      <td>0.0</td>\n      <td>14617.0</td>\n      <td>328265.0</td>\n      <td>0.0</td>\n      <td>546.0</td>\n    </tr>\n    <tr>\n      <th>187</th>\n      <td>2020-06-26</td>\n      <td>Kentucky</td>\n      <td>350754</td>\n      <td>350754</td>\n      <td>0.0</td>\n      <td>14859.0</td>\n      <td>335895.0</td>\n      <td>0.0</td>\n      <td>553.0</td>\n    </tr>\n    <tr>\n      <th>131</th>\n      <td>2020-06-27</td>\n      <td>Kentucky</td>\n      <td>350754</td>\n      <td>350754</td>\n      <td>0.0</td>\n      <td>14859.0</td>\n      <td>335895.0</td>\n      <td>0.0</td>\n      <td>553.0</td>\n    </tr>\n    <tr>\n      <th>75</th>\n      <td>2020-06-28</td>\n      <td>Kentucky</td>\n      <td>358491</td>\n      <td>358491</td>\n      <td>0.0</td>\n      <td>15232.0</td>\n      <td>343259.0</td>\n      <td>0.0</td>\n      <td>558.0</td>\n    </tr>\n    <tr>\n      <th>19</th>\n      <td>2020-06-29</td>\n      <td>Kentucky</td>\n      <td>361441</td>\n      <td>361441</td>\n      <td>0.0</td>\n      <td>15347.0</td>\n      <td>346094.0</td>\n      <td>0.0</td>\n      <td>560.0</td>\n    </tr>\n  </tbody>\n</table>\n</div>",
                        "text/plain": "          Date Province/State   Total   total  totalTestsViral  Positive  \\\n243 2020-06-25       Kentucky  342882  342882              0.0   14617.0   \n187 2020-06-26       Kentucky  350754  350754              0.0   14859.0   \n131 2020-06-27       Kentucky  350754  350754              0.0   14859.0   \n75  2020-06-28       Kentucky  358491  358491              0.0   15232.0   \n19  2020-06-29       Kentucky  361441  361441              0.0   15347.0   \n\n     Negative  Pending  Death  \n243  328265.0      0.0  546.0  \n187  335895.0      0.0  553.0  \n131  335895.0      0.0  553.0  \n75   343259.0      0.0  558.0  \n19   346094.0      0.0  560.0  "
                    },
                    "execution_count": 51,
                    "metadata": {},
                    "output_type": "execute_result"
                }
            ],
            "source": "#Hospitalized and hospitalizedCumulative both appear to be carrying cumulative numbers for MA\n#Positive, Negative & Total are patient counts.  totalTestsViral is all tests (repeats on same patient).  \n#The Total appears to include a patient twice if they have both a positive and a negative test its not an exact \n#match for the MA DPH unique patients tested figure.  Other states are not reporting into totalTestsViral so Total is still being used.\nma_test = sorted_data[(sorted_data['Province/State']=='Kentucky')]\nma_test.filter(items=['Date','Hospitalized', 'hospitalizedCumulative', 'hospitalizedCurrently']).tail()\nma_test.filter(items=['Date','Province/State','Total', 'total','totalTestsViral', 'Positive', 'Negative', 'Pending', 'Death']).tail()"
        },
        {
            "cell_type": "code",
            "execution_count": 8,
            "metadata": {},
            "outputs": [],
            "source": "sorted_data['Current_Day_Positive_Cases'] = sorted_data['Positive'] - sorted_data.groupby(['Province/State'])[\"Positive\"].shift(1, fill_value=0)\nsorted_data['Current_Day_Total_Tests'] = sorted_data['Total'] - sorted_data.groupby(['Province/State'])[\"Total\"].shift(1, fill_value=0)\nsorted_data['Current_Day_Negative_Cases'] = sorted_data['Negative'] - sorted_data.groupby(['Province/State'])[\"Negative\"].shift(1, fill_value=0)\nsorted_data['Current_Day_Pending_Cases'] = sorted_data['Pending'] - sorted_data.groupby(['Province/State'])[\"Pending\"].shift(1, fill_value=0)\nsorted_data['Current_Day_Deaths'] = sorted_data['Death'] - sorted_data.groupby(['Province/State'])[\"Death\"].shift(1, fill_value=0)\nsorted_data['Current_Day_New_Hospitalized'] = sorted_data['Hospitalized'] - sorted_data.groupby(['Province/State'])[\"Hospitalized\"].shift(1, fill_value=0)\nsorted_data['Currently_Hospitalized'] = sorted_data['hospitalizedCurrently'] \nsorted_data['Prior_Day_Positive_Cases'] = sorted_data.groupby('Province/State')['Positive'].shift(1, fill_value=0)\nsorted_data['Prior_Day_Deaths'] = sorted_data.groupby('Province/State')['Death'].shift(1, fill_value=0)\nsorted_data['Prior_Day_Total_Tests'] = sorted_data.groupby('Province/State')['Total'].shift(1, fill_value=0)\nsorted_data['Pct_Change_Positive_Cases'] = (sorted_data['Positive'] - sorted_data['Prior_Day_Positive_Cases'])/sorted_data['Prior_Day_Positive_Cases']\nsorted_data['Pct_Change_Deaths'] = (sorted_data['Death'] - sorted_data['Prior_Day_Deaths'])/sorted_data['Prior_Day_Deaths']\nsorted_data['Pct_Change_Total_Tests'] = (sorted_data['Total'] - sorted_data['Prior_Day_Total_Tests'])/sorted_data['Prior_Day_Total_Tests']\nsorted_data['Cumulative_Positive_Cases'] = sorted_data['Positive']\nsorted_data['Cumulative_Total_Tests'] = sorted_data['Total']\nsorted_data['Cumulative_Deaths'] = sorted_data['Death']\nsorted_data['Cumulative_Hospitalized'] = sorted_data['hospitalizedCumulative']"
        },
        {
            "cell_type": "code",
            "execution_count": 9,
            "metadata": {},
            "outputs": [
                {
                    "data": {
                        "text/plain": "'state_population_est_2019.csv'"
                    },
                    "execution_count": 9,
                    "metadata": {},
                    "output_type": "execute_result"
                }
            ],
            "source": "#bring in csv for state population estimates\nurls = ['https://raw.githubusercontent.com/rdewolf127/DataVisualization611/master/state_population_est_2019.csv']\nfor url in urls:\n    filename = wget.download(url)\nfilename"
        },
        {
            "cell_type": "code",
            "execution_count": 10,
            "metadata": {},
            "outputs": [
                {
                    "data": {
                        "text/html": "<div>\n<style scoped>\n    .dataframe tbody tr th:only-of-type {\n        vertical-align: middle;\n    }\n\n    .dataframe tbody tr th {\n        vertical-align: top;\n    }\n\n    .dataframe thead th {\n        text-align: right;\n    }\n</style>\n<table border=\"1\" class=\"dataframe\">\n  <thead>\n    <tr style=\"text-align: right;\">\n      <th></th>\n      <th>fips</th>\n      <th>Province/State</th>\n      <th>PopEst_2019</th>\n      <th>Per_500K_Factor</th>\n    </tr>\n  </thead>\n  <tbody>\n    <tr>\n      <th>0</th>\n      <td>01</td>\n      <td>.Alabama</td>\n      <td>4,903,185</td>\n      <td>9.806370</td>\n    </tr>\n    <tr>\n      <th>1</th>\n      <td>02</td>\n      <td>.Alaska</td>\n      <td>731,545</td>\n      <td>1.463090</td>\n    </tr>\n    <tr>\n      <th>2</th>\n      <td>04</td>\n      <td>.Arizona</td>\n      <td>7,278,717</td>\n      <td>14.557434</td>\n    </tr>\n    <tr>\n      <th>3</th>\n      <td>05</td>\n      <td>.Arkansas</td>\n      <td>3,017,804</td>\n      <td>6.035608</td>\n    </tr>\n    <tr>\n      <th>4</th>\n      <td>06</td>\n      <td>.California</td>\n      <td>39,512,223</td>\n      <td>79.024446</td>\n    </tr>\n  </tbody>\n</table>\n</div>",
                        "text/plain": "  fips Province/State PopEst_2019  Per_500K_Factor\n0   01       .Alabama   4,903,185         9.806370\n1   02        .Alaska     731,545         1.463090\n2   04       .Arizona   7,278,717        14.557434\n3   05      .Arkansas   3,017,804         6.035608\n4   06    .California  39,512,223        79.024446"
                    },
                    "execution_count": 10,
                    "metadata": {},
                    "output_type": "execute_result"
                }
            ],
            "source": "state_pop = pd.read_csv('state_population_est_2019.csv', dtype={'fips':'str'})\nstate_pop.head()"
        },
        {
            "cell_type": "code",
            "execution_count": 11,
            "metadata": {},
            "outputs": [
                {
                    "data": {
                        "text/plain": "'state_population_density.csv'"
                    },
                    "execution_count": 11,
                    "metadata": {},
                    "output_type": "execute_result"
                }
            ],
            "source": "#bring in csv for state population estimates\nurls = ['https://raw.githubusercontent.com/rdewolf127/DataVisualization611/master/state_population_density.csv']\nfor url in urls:\n    filename = wget.download(url)\nfilename"
        },
        {
            "cell_type": "code",
            "execution_count": 12,
            "metadata": {},
            "outputs": [
                {
                    "data": {
                        "text/html": "<div>\n<style scoped>\n    .dataframe tbody tr th:only-of-type {\n        vertical-align: middle;\n    }\n\n    .dataframe tbody tr th {\n        vertical-align: top;\n    }\n\n    .dataframe thead th {\n        text-align: right;\n    }\n</style>\n<table border=\"1\" class=\"dataframe\">\n  <thead>\n    <tr style=\"text-align: right;\">\n      <th></th>\n      <th>fips</th>\n      <th>state</th>\n      <th>landareasquaremiles</th>\n      <th>popdensity19</th>\n    </tr>\n  </thead>\n  <tbody>\n    <tr>\n      <th>0</th>\n      <td>01</td>\n      <td>Alabama</td>\n      <td>50645.33</td>\n      <td>96.81</td>\n    </tr>\n    <tr>\n      <th>1</th>\n      <td>02</td>\n      <td>Alaska</td>\n      <td>553559.49</td>\n      <td>1.32</td>\n    </tr>\n    <tr>\n      <th>2</th>\n      <td>04</td>\n      <td>Arizona</td>\n      <td>113594.09</td>\n      <td>64.08</td>\n    </tr>\n    <tr>\n      <th>3</th>\n      <td>05</td>\n      <td>Arkansas</td>\n      <td>52035.44</td>\n      <td>58.00</td>\n    </tr>\n    <tr>\n      <th>4</th>\n      <td>06</td>\n      <td>California</td>\n      <td>155779.19</td>\n      <td>253.64</td>\n    </tr>\n  </tbody>\n</table>\n</div>",
                        "text/plain": "  fips       state  landareasquaremiles  popdensity19\n0   01     Alabama             50645.33         96.81\n1   02      Alaska            553559.49          1.32\n2   04     Arizona            113594.09         64.08\n3   05    Arkansas             52035.44         58.00\n4   06  California            155779.19        253.64"
                    },
                    "execution_count": 12,
                    "metadata": {},
                    "output_type": "execute_result"
                }
            ],
            "source": "state_density = pd.read_csv('state_population_density.csv', dtype={'fips':'str'})\nstate_density.head()"
        },
        {
            "cell_type": "code",
            "execution_count": 13,
            "metadata": {},
            "outputs": [
                {
                    "data": {
                        "text/html": "<div>\n<style scoped>\n    .dataframe tbody tr th:only-of-type {\n        vertical-align: middle;\n    }\n\n    .dataframe tbody tr th {\n        vertical-align: top;\n    }\n\n    .dataframe thead th {\n        text-align: right;\n    }\n</style>\n<table border=\"1\" class=\"dataframe\">\n  <thead>\n    <tr style=\"text-align: right;\">\n      <th></th>\n      <th>checkTimeEt</th>\n      <th>commercialScore</th>\n      <th>dataQualityGrade</th>\n      <th>dateModified</th>\n      <th>Death</th>\n      <th>deathIncrease</th>\n      <th>fips</th>\n      <th>grade</th>\n      <th>hash</th>\n      <th>Hospitalized</th>\n      <th>...</th>\n      <th>Cumulative_Total_Tests</th>\n      <th>Cumulative_Deaths</th>\n      <th>Cumulative_Hospitalized</th>\n      <th>Province/State_y</th>\n      <th>PopEst_2019</th>\n      <th>Per_500K_Factor</th>\n      <th>state</th>\n      <th>landareasquaremiles</th>\n      <th>popdensity19</th>\n      <th>Province/State</th>\n    </tr>\n  </thead>\n  <tbody>\n    <tr>\n      <th>0</th>\n      <td>0</td>\n      <td>0</td>\n      <td></td>\n      <td>0</td>\n      <td>0.0</td>\n      <td>0</td>\n      <td>01</td>\n      <td></td>\n      <td>107d5796e64511acf181941412d9aa91f4d75ad2</td>\n      <td>0.0</td>\n      <td>...</td>\n      <td>0</td>\n      <td>0.0</td>\n      <td>0.0</td>\n      <td>.Alabama</td>\n      <td>4,903,185</td>\n      <td>9.80637</td>\n      <td>Alabama</td>\n      <td>50645.33</td>\n      <td>96.81</td>\n      <td>Alabama</td>\n    </tr>\n    <tr>\n      <th>1</th>\n      <td>0</td>\n      <td>0</td>\n      <td></td>\n      <td>0</td>\n      <td>0.0</td>\n      <td>0</td>\n      <td>01</td>\n      <td></td>\n      <td>7facc09db7bcdfed34ef772657473471943c745b</td>\n      <td>0.0</td>\n      <td>...</td>\n      <td>0</td>\n      <td>0.0</td>\n      <td>0.0</td>\n      <td>.Alabama</td>\n      <td>4,903,185</td>\n      <td>9.80637</td>\n      <td>Alabama</td>\n      <td>50645.33</td>\n      <td>96.81</td>\n      <td>Alabama</td>\n    </tr>\n    <tr>\n      <th>2</th>\n      <td>0</td>\n      <td>0</td>\n      <td></td>\n      <td>0</td>\n      <td>0.0</td>\n      <td>0</td>\n      <td>01</td>\n      <td></td>\n      <td>b8d68b71b5d9fffdfdb973e9198bb2b73438fd3f</td>\n      <td>0.0</td>\n      <td>...</td>\n      <td>0</td>\n      <td>0.0</td>\n      <td>0.0</td>\n      <td>.Alabama</td>\n      <td>4,903,185</td>\n      <td>9.80637</td>\n      <td>Alabama</td>\n      <td>50645.33</td>\n      <td>96.81</td>\n      <td>Alabama</td>\n    </tr>\n    <tr>\n      <th>3</th>\n      <td>0</td>\n      <td>0</td>\n      <td></td>\n      <td>0</td>\n      <td>0.0</td>\n      <td>0</td>\n      <td>01</td>\n      <td></td>\n      <td>631b4d0aee9e1e09bcc57a2b79fda9d33899925f</td>\n      <td>0.0</td>\n      <td>...</td>\n      <td>0</td>\n      <td>0.0</td>\n      <td>0.0</td>\n      <td>.Alabama</td>\n      <td>4,903,185</td>\n      <td>9.80637</td>\n      <td>Alabama</td>\n      <td>50645.33</td>\n      <td>96.81</td>\n      <td>Alabama</td>\n    </tr>\n    <tr>\n      <th>4</th>\n      <td>0</td>\n      <td>0</td>\n      <td></td>\n      <td>0</td>\n      <td>0.0</td>\n      <td>0</td>\n      <td>01</td>\n      <td></td>\n      <td>a72d7525867debf1c3825ce9bcc1e6b805499fc9</td>\n      <td>0.0</td>\n      <td>...</td>\n      <td>10</td>\n      <td>0.0</td>\n      <td>0.0</td>\n      <td>.Alabama</td>\n      <td>4,903,185</td>\n      <td>9.80637</td>\n      <td>Alabama</td>\n      <td>50645.33</td>\n      <td>96.81</td>\n      <td>Alabama</td>\n    </tr>\n  </tbody>\n</table>\n<p>5 rows \u00d7 65 columns</p>\n</div>",
                        "text/plain": "  checkTimeEt  commercialScore dataQualityGrade dateModified  Death  \\\n0           0                0                             0    0.0   \n1           0                0                             0    0.0   \n2           0                0                             0    0.0   \n3           0                0                             0    0.0   \n4           0                0                             0    0.0   \n\n   deathIncrease fips grade                                      hash  \\\n0              0   01        107d5796e64511acf181941412d9aa91f4d75ad2   \n1              0   01        7facc09db7bcdfed34ef772657473471943c745b   \n2              0   01        b8d68b71b5d9fffdfdb973e9198bb2b73438fd3f   \n3              0   01        631b4d0aee9e1e09bcc57a2b79fda9d33899925f   \n4              0   01        a72d7525867debf1c3825ce9bcc1e6b805499fc9   \n\n   Hospitalized  ...  Cumulative_Total_Tests  Cumulative_Deaths  \\\n0           0.0  ...                       0                0.0   \n1           0.0  ...                       0                0.0   \n2           0.0  ...                       0                0.0   \n3           0.0  ...                       0                0.0   \n4           0.0  ...                      10                0.0   \n\n   Cumulative_Hospitalized  Province/State_y  PopEst_2019 Per_500K_Factor  \\\n0                      0.0          .Alabama    4,903,185         9.80637   \n1                      0.0          .Alabama    4,903,185         9.80637   \n2                      0.0          .Alabama    4,903,185         9.80637   \n3                      0.0          .Alabama    4,903,185         9.80637   \n4                      0.0          .Alabama    4,903,185         9.80637   \n\n     state  landareasquaremiles  popdensity19  Province/State  \n0  Alabama             50645.33         96.81         Alabama  \n1  Alabama             50645.33         96.81         Alabama  \n2  Alabama             50645.33         96.81         Alabama  \n3  Alabama             50645.33         96.81         Alabama  \n4  Alabama             50645.33         96.81         Alabama  \n\n[5 rows x 65 columns]"
                    },
                    "execution_count": 13,
                    "metadata": {},
                    "output_type": "execute_result"
                }
            ],
            "source": "merged_data = pd.merge(sorted_data, state_pop, on='fips')\nmerged_data = pd.merge(merged_data, state_density, on='fips')\nmerged_data['Province/State']=merged_data['Province/State_x']\nmerged_data.head()"
        },
        {
            "cell_type": "code",
            "execution_count": 14,
            "metadata": {},
            "outputs": [],
            "source": "rearranged_data = merged_data.filter(items=['fips','Country/Region', 'Province/State', 'Date',\n                               'Cumulative_Positive_Cases', 'Current_Day_Positive_Cases',\n                               'Prior_Day_Positive_Cases','Pct_Change_Positive_Cases',\n                               'Cumulative_Total_Tests', 'Current_Day_Total_Tests',\n                               'Prior_Day_Total_Tests', 'Pct_Change_Total_Tests',\n                               'Cumulative_Deaths', 'Current_Day_Deaths',\n                               'Prior_Day_Deaths', 'Pct_Change_Deaths',\n                               'Current_Day_New_Hospitalized','Cumulative_Hospitalized', 'Currently_Hospitalized',\n                               'ISO3166-1', 'ISO3166-2', 'PopEst_2019', 'Per_500K_Factor','landareasquaremiles', 'popdensity19'])"
        },
        {
            "cell_type": "code",
            "execution_count": 15,
            "metadata": {},
            "outputs": [
                {
                    "data": {
                        "text/html": "<div>\n<style scoped>\n    .dataframe tbody tr th:only-of-type {\n        vertical-align: middle;\n    }\n\n    .dataframe tbody tr th {\n        vertical-align: top;\n    }\n\n    .dataframe thead th {\n        text-align: right;\n    }\n</style>\n<table border=\"1\" class=\"dataframe\">\n  <thead>\n    <tr style=\"text-align: right;\">\n      <th></th>\n      <th>fips</th>\n      <th>Country/Region</th>\n      <th>Province/State</th>\n      <th>Date</th>\n      <th>Cumulative_Positive_Cases</th>\n      <th>Current_Day_Positive_Cases</th>\n      <th>Prior_Day_Positive_Cases</th>\n      <th>Pct_Change_Positive_Cases</th>\n      <th>Cumulative_Total_Tests</th>\n      <th>Current_Day_Total_Tests</th>\n      <th>...</th>\n      <th>Current_Day_New_Hospitalized</th>\n      <th>Cumulative_Hospitalized</th>\n      <th>Currently_Hospitalized</th>\n      <th>ISO3166-1</th>\n      <th>ISO3166-2</th>\n      <th>PopEst_2019</th>\n      <th>Per_500K_Factor</th>\n      <th>landareasquaremiles</th>\n      <th>popdensity19</th>\n      <th>Last_Update_Date</th>\n    </tr>\n  </thead>\n  <tbody>\n    <tr>\n      <th>0</th>\n      <td>01</td>\n      <td>United States</td>\n      <td>Alabama</td>\n      <td>2020-03-07</td>\n      <td>0.0</td>\n      <td>0.0</td>\n      <td>0.0</td>\n      <td>NaN</td>\n      <td>0</td>\n      <td>0</td>\n      <td>...</td>\n      <td>0.0</td>\n      <td>0.0</td>\n      <td>0.0</td>\n      <td>US</td>\n      <td>AL</td>\n      <td>4,903,185</td>\n      <td>9.80637</td>\n      <td>50645.33</td>\n      <td>96.81</td>\n      <td>2020-06-30 13:47:59.056560</td>\n    </tr>\n    <tr>\n      <th>1</th>\n      <td>01</td>\n      <td>United States</td>\n      <td>Alabama</td>\n      <td>2020-03-08</td>\n      <td>0.0</td>\n      <td>0.0</td>\n      <td>0.0</td>\n      <td>NaN</td>\n      <td>0</td>\n      <td>0</td>\n      <td>...</td>\n      <td>0.0</td>\n      <td>0.0</td>\n      <td>0.0</td>\n      <td>US</td>\n      <td>AL</td>\n      <td>4,903,185</td>\n      <td>9.80637</td>\n      <td>50645.33</td>\n      <td>96.81</td>\n      <td>2020-06-30 13:47:59.056560</td>\n    </tr>\n    <tr>\n      <th>2</th>\n      <td>01</td>\n      <td>United States</td>\n      <td>Alabama</td>\n      <td>2020-03-09</td>\n      <td>0.0</td>\n      <td>0.0</td>\n      <td>0.0</td>\n      <td>NaN</td>\n      <td>0</td>\n      <td>0</td>\n      <td>...</td>\n      <td>0.0</td>\n      <td>0.0</td>\n      <td>0.0</td>\n      <td>US</td>\n      <td>AL</td>\n      <td>4,903,185</td>\n      <td>9.80637</td>\n      <td>50645.33</td>\n      <td>96.81</td>\n      <td>2020-06-30 13:47:59.056560</td>\n    </tr>\n    <tr>\n      <th>3</th>\n      <td>01</td>\n      <td>United States</td>\n      <td>Alabama</td>\n      <td>2020-03-10</td>\n      <td>0.0</td>\n      <td>0.0</td>\n      <td>0.0</td>\n      <td>NaN</td>\n      <td>0</td>\n      <td>0</td>\n      <td>...</td>\n      <td>0.0</td>\n      <td>0.0</td>\n      <td>0.0</td>\n      <td>US</td>\n      <td>AL</td>\n      <td>4,903,185</td>\n      <td>9.80637</td>\n      <td>50645.33</td>\n      <td>96.81</td>\n      <td>2020-06-30 13:47:59.056560</td>\n    </tr>\n    <tr>\n      <th>4</th>\n      <td>01</td>\n      <td>United States</td>\n      <td>Alabama</td>\n      <td>2020-03-11</td>\n      <td>0.0</td>\n      <td>0.0</td>\n      <td>0.0</td>\n      <td>NaN</td>\n      <td>10</td>\n      <td>10</td>\n      <td>...</td>\n      <td>0.0</td>\n      <td>0.0</td>\n      <td>0.0</td>\n      <td>US</td>\n      <td>AL</td>\n      <td>4,903,185</td>\n      <td>9.80637</td>\n      <td>50645.33</td>\n      <td>96.81</td>\n      <td>2020-06-30 13:47:59.056560</td>\n    </tr>\n  </tbody>\n</table>\n<p>5 rows \u00d7 26 columns</p>\n</div>",
                        "text/plain": "  fips Country/Region Province/State       Date  Cumulative_Positive_Cases  \\\n0   01  United States        Alabama 2020-03-07                        0.0   \n1   01  United States        Alabama 2020-03-08                        0.0   \n2   01  United States        Alabama 2020-03-09                        0.0   \n3   01  United States        Alabama 2020-03-10                        0.0   \n4   01  United States        Alabama 2020-03-11                        0.0   \n\n   Current_Day_Positive_Cases  Prior_Day_Positive_Cases  \\\n0                         0.0                       0.0   \n1                         0.0                       0.0   \n2                         0.0                       0.0   \n3                         0.0                       0.0   \n4                         0.0                       0.0   \n\n   Pct_Change_Positive_Cases  Cumulative_Total_Tests  Current_Day_Total_Tests  \\\n0                        NaN                       0                        0   \n1                        NaN                       0                        0   \n2                        NaN                       0                        0   \n3                        NaN                       0                        0   \n4                        NaN                      10                       10   \n\n   ...  Current_Day_New_Hospitalized  Cumulative_Hospitalized  \\\n0  ...                           0.0                      0.0   \n1  ...                           0.0                      0.0   \n2  ...                           0.0                      0.0   \n3  ...                           0.0                      0.0   \n4  ...                           0.0                      0.0   \n\n   Currently_Hospitalized  ISO3166-1  ISO3166-2  PopEst_2019  Per_500K_Factor  \\\n0                     0.0         US         AL    4,903,185          9.80637   \n1                     0.0         US         AL    4,903,185          9.80637   \n2                     0.0         US         AL    4,903,185          9.80637   \n3                     0.0         US         AL    4,903,185          9.80637   \n4                     0.0         US         AL    4,903,185          9.80637   \n\n   landareasquaremiles  popdensity19           Last_Update_Date  \n0             50645.33         96.81 2020-06-30 13:47:59.056560  \n1             50645.33         96.81 2020-06-30 13:47:59.056560  \n2             50645.33         96.81 2020-06-30 13:47:59.056560  \n3             50645.33         96.81 2020-06-30 13:47:59.056560  \n4             50645.33         96.81 2020-06-30 13:47:59.056560  \n\n[5 rows x 26 columns]"
                    },
                    "execution_count": 15,
                    "metadata": {},
                    "output_type": "execute_result"
                }
            ],
            "source": "rearranged_data.loc[:, \"Last_Update_Date\"] = datetime.datetime.utcnow()\nrearranged_data.head()"
        },
        {
            "cell_type": "code",
            "execution_count": 16,
            "metadata": {},
            "outputs": [
                {
                    "name": "stderr",
                    "output_type": "stream",
                    "text": "/opt/conda/envs/Python36/lib/python3.6/site-packages/ipykernel/__main__.py:6: RuntimeWarning: divide by zero encountered in log\n"
                },
                {
                    "data": {
                        "text/html": "<div>\n<style scoped>\n    .dataframe tbody tr th:only-of-type {\n        vertical-align: middle;\n    }\n\n    .dataframe tbody tr th {\n        vertical-align: top;\n    }\n\n    .dataframe thead th {\n        text-align: right;\n    }\n</style>\n<table border=\"1\" class=\"dataframe\">\n  <thead>\n    <tr style=\"text-align: right;\">\n      <th></th>\n      <th>fips</th>\n      <th>Country/Region</th>\n      <th>Province/State</th>\n      <th>Date</th>\n      <th>Cumulative_Positive_Cases</th>\n      <th>Current_Day_Positive_Cases</th>\n      <th>Prior_Day_Positive_Cases</th>\n      <th>Pct_Change_Positive_Cases</th>\n      <th>Cumulative_Total_Tests</th>\n      <th>Current_Day_Total_Tests</th>\n      <th>...</th>\n      <th>landareasquaremiles</th>\n      <th>popdensity19</th>\n      <th>Last_Update_Date</th>\n      <th>Cumulative_Mortality_Rate</th>\n      <th>Cumulative_Positive_Test_Rate</th>\n      <th>Current_Day_Mortality_Rate</th>\n      <th>Current_Day_Positive_Test_Rate</th>\n      <th>Cumulative_Positive_Cases_Per_500K</th>\n      <th>Cumulative_Positive_Cases_Per_500K - LOG</th>\n      <th>popdensity19 - LOG</th>\n    </tr>\n  </thead>\n  <tbody>\n    <tr>\n      <th>0</th>\n      <td>01</td>\n      <td>United States</td>\n      <td>Alabama</td>\n      <td>2020-03-07</td>\n      <td>0.0</td>\n      <td>0.0</td>\n      <td>0.0</td>\n      <td>NaN</td>\n      <td>0</td>\n      <td>0</td>\n      <td>...</td>\n      <td>50645.33</td>\n      <td>96.81</td>\n      <td>2020-06-30 13:47:59.056560</td>\n      <td>NaN</td>\n      <td>NaN</td>\n      <td>NaN</td>\n      <td>NaN</td>\n      <td>0.0</td>\n      <td>-inf</td>\n      <td>4.57275</td>\n    </tr>\n    <tr>\n      <th>1</th>\n      <td>01</td>\n      <td>United States</td>\n      <td>Alabama</td>\n      <td>2020-03-08</td>\n      <td>0.0</td>\n      <td>0.0</td>\n      <td>0.0</td>\n      <td>NaN</td>\n      <td>0</td>\n      <td>0</td>\n      <td>...</td>\n      <td>50645.33</td>\n      <td>96.81</td>\n      <td>2020-06-30 13:47:59.056560</td>\n      <td>NaN</td>\n      <td>NaN</td>\n      <td>NaN</td>\n      <td>NaN</td>\n      <td>0.0</td>\n      <td>-inf</td>\n      <td>4.57275</td>\n    </tr>\n    <tr>\n      <th>2</th>\n      <td>01</td>\n      <td>United States</td>\n      <td>Alabama</td>\n      <td>2020-03-09</td>\n      <td>0.0</td>\n      <td>0.0</td>\n      <td>0.0</td>\n      <td>NaN</td>\n      <td>0</td>\n      <td>0</td>\n      <td>...</td>\n      <td>50645.33</td>\n      <td>96.81</td>\n      <td>2020-06-30 13:47:59.056560</td>\n      <td>NaN</td>\n      <td>NaN</td>\n      <td>NaN</td>\n      <td>NaN</td>\n      <td>0.0</td>\n      <td>-inf</td>\n      <td>4.57275</td>\n    </tr>\n    <tr>\n      <th>3</th>\n      <td>01</td>\n      <td>United States</td>\n      <td>Alabama</td>\n      <td>2020-03-10</td>\n      <td>0.0</td>\n      <td>0.0</td>\n      <td>0.0</td>\n      <td>NaN</td>\n      <td>0</td>\n      <td>0</td>\n      <td>...</td>\n      <td>50645.33</td>\n      <td>96.81</td>\n      <td>2020-06-30 13:47:59.056560</td>\n      <td>NaN</td>\n      <td>NaN</td>\n      <td>NaN</td>\n      <td>NaN</td>\n      <td>0.0</td>\n      <td>-inf</td>\n      <td>4.57275</td>\n    </tr>\n    <tr>\n      <th>4</th>\n      <td>01</td>\n      <td>United States</td>\n      <td>Alabama</td>\n      <td>2020-03-11</td>\n      <td>0.0</td>\n      <td>0.0</td>\n      <td>0.0</td>\n      <td>NaN</td>\n      <td>10</td>\n      <td>10</td>\n      <td>...</td>\n      <td>50645.33</td>\n      <td>96.81</td>\n      <td>2020-06-30 13:47:59.056560</td>\n      <td>NaN</td>\n      <td>0.0</td>\n      <td>NaN</td>\n      <td>0.0</td>\n      <td>0.0</td>\n      <td>-inf</td>\n      <td>4.57275</td>\n    </tr>\n  </tbody>\n</table>\n<p>5 rows \u00d7 33 columns</p>\n</div>",
                        "text/plain": "  fips Country/Region Province/State       Date  Cumulative_Positive_Cases  \\\n0   01  United States        Alabama 2020-03-07                        0.0   \n1   01  United States        Alabama 2020-03-08                        0.0   \n2   01  United States        Alabama 2020-03-09                        0.0   \n3   01  United States        Alabama 2020-03-10                        0.0   \n4   01  United States        Alabama 2020-03-11                        0.0   \n\n   Current_Day_Positive_Cases  Prior_Day_Positive_Cases  \\\n0                         0.0                       0.0   \n1                         0.0                       0.0   \n2                         0.0                       0.0   \n3                         0.0                       0.0   \n4                         0.0                       0.0   \n\n   Pct_Change_Positive_Cases  Cumulative_Total_Tests  Current_Day_Total_Tests  \\\n0                        NaN                       0                        0   \n1                        NaN                       0                        0   \n2                        NaN                       0                        0   \n3                        NaN                       0                        0   \n4                        NaN                      10                       10   \n\n   ...  landareasquaremiles  popdensity19           Last_Update_Date  \\\n0  ...             50645.33         96.81 2020-06-30 13:47:59.056560   \n1  ...             50645.33         96.81 2020-06-30 13:47:59.056560   \n2  ...             50645.33         96.81 2020-06-30 13:47:59.056560   \n3  ...             50645.33         96.81 2020-06-30 13:47:59.056560   \n4  ...             50645.33         96.81 2020-06-30 13:47:59.056560   \n\n   Cumulative_Mortality_Rate  Cumulative_Positive_Test_Rate  \\\n0                        NaN                            NaN   \n1                        NaN                            NaN   \n2                        NaN                            NaN   \n3                        NaN                            NaN   \n4                        NaN                            0.0   \n\n   Current_Day_Mortality_Rate  Current_Day_Positive_Test_Rate  \\\n0                         NaN                             NaN   \n1                         NaN                             NaN   \n2                         NaN                             NaN   \n3                         NaN                             NaN   \n4                         NaN                             0.0   \n\n   Cumulative_Positive_Cases_Per_500K  \\\n0                                 0.0   \n1                                 0.0   \n2                                 0.0   \n3                                 0.0   \n4                                 0.0   \n\n   Cumulative_Positive_Cases_Per_500K - LOG popdensity19 - LOG  \n0                                      -inf            4.57275  \n1                                      -inf            4.57275  \n2                                      -inf            4.57275  \n3                                      -inf            4.57275  \n4                                      -inf            4.57275  \n\n[5 rows x 33 columns]"
                    },
                    "execution_count": 16,
                    "metadata": {},
                    "output_type": "execute_result"
                }
            ],
            "source": "rearranged_data['Cumulative_Mortality_Rate']=rearranged_data['Cumulative_Deaths']/rearranged_data['Cumulative_Positive_Cases']\nrearranged_data['Cumulative_Positive_Test_Rate'] = rearranged_data['Cumulative_Positive_Cases']/rearranged_data['Cumulative_Total_Tests']\nrearranged_data['Current_Day_Mortality_Rate']=rearranged_data['Current_Day_Deaths']/rearranged_data['Current_Day_Positive_Cases']\nrearranged_data['Current_Day_Positive_Test_Rate'] = rearranged_data['Current_Day_Positive_Cases']/rearranged_data['Current_Day_Total_Tests']\nrearranged_data['Cumulative_Positive_Cases_Per_500K'] = round(rearranged_data['Cumulative_Positive_Cases']/rearranged_data['Per_500K_Factor'],0)\nrearranged_data['Cumulative_Positive_Cases_Per_500K - LOG'] = np.log(rearranged_data['Cumulative_Positive_Cases_Per_500K'])\nrearranged_data['popdensity19 - LOG'] = np.log(rearranged_data['popdensity19'])\nrearranged_data.head()"
        },
        {
            "cell_type": "code",
            "execution_count": 17,
            "metadata": {},
            "outputs": [
                {
                    "data": {
                        "text/html": "<div>\n<style scoped>\n    .dataframe tbody tr th:only-of-type {\n        vertical-align: middle;\n    }\n\n    .dataframe tbody tr th {\n        vertical-align: top;\n    }\n\n    .dataframe thead th {\n        text-align: right;\n    }\n</style>\n<table border=\"1\" class=\"dataframe\">\n  <thead>\n    <tr style=\"text-align: right;\">\n      <th></th>\n      <th>fips</th>\n      <th>Country/Region</th>\n      <th>Province/State</th>\n      <th>Date</th>\n      <th>Cumulative_Positive_Cases</th>\n      <th>Current_Day_Positive_Cases</th>\n      <th>Prior_Day_Positive_Cases</th>\n      <th>Pct_Change_Positive_Cases</th>\n      <th>Cumulative_Total_Tests</th>\n      <th>Current_Day_Total_Tests</th>\n      <th>...</th>\n      <th>popdensity19 - LOG</th>\n      <th>MA7_Pct_Change_Positive_Cases</th>\n      <th>MA7_Pct_Change_Total_Tests</th>\n      <th>MA7_Pct_Change_Deaths</th>\n      <th>MA7_Cumulative_Mortality_Rate</th>\n      <th>MA7_Current_Day_Mortality_Rate</th>\n      <th>MA7_Cumulative_Positive_Test_Rate</th>\n      <th>MA7_Current_Day_Positive_Test_Rate</th>\n      <th>MA7_Current_Day_Positive_Cases</th>\n      <th>MA7_Currently_Hospitalized</th>\n    </tr>\n  </thead>\n  <tbody>\n    <tr>\n      <th>5978</th>\n      <td>56</td>\n      <td>United States</td>\n      <td>Wyoming</td>\n      <td>2020-06-25</td>\n      <td>1326.0</td>\n      <td>47.0</td>\n      <td>1279.0</td>\n      <td>0.036747</td>\n      <td>30195</td>\n      <td>47</td>\n      <td>...</td>\n      <td>1.78507</td>\n      <td>0.021357</td>\n      <td>-0.019989</td>\n      <td>1.587302e-02</td>\n      <td>0.016236</td>\n      <td>0.009852</td>\n      <td>0.041987</td>\n      <td>0.446504</td>\n      <td>26.000000</td>\n      <td>7.714286</td>\n    </tr>\n    <tr>\n      <th>5979</th>\n      <td>56</td>\n      <td>United States</td>\n      <td>Wyoming</td>\n      <td>2020-06-26</td>\n      <td>1368.0</td>\n      <td>42.0</td>\n      <td>1326.0</td>\n      <td>0.031674</td>\n      <td>31774</td>\n      <td>1579</td>\n      <td>...</td>\n      <td>1.78507</td>\n      <td>0.022260</td>\n      <td>-0.013783</td>\n      <td>3.628050e-16</td>\n      <td>0.015889</td>\n      <td>0.000000</td>\n      <td>0.043543</td>\n      <td>0.437358</td>\n      <td>27.857143</td>\n      <td>7.285714</td>\n    </tr>\n    <tr>\n      <th>5980</th>\n      <td>56</td>\n      <td>United States</td>\n      <td>Wyoming</td>\n      <td>2020-06-27</td>\n      <td>1392.0</td>\n      <td>24.0</td>\n      <td>1368.0</td>\n      <td>0.017544</td>\n      <td>31798</td>\n      <td>24</td>\n      <td>...</td>\n      <td>1.78507</td>\n      <td>0.024036</td>\n      <td>0.022096</td>\n      <td>3.628050e-16</td>\n      <td>0.015518</td>\n      <td>0.000000</td>\n      <td>0.043637</td>\n      <td>0.580309</td>\n      <td>30.428571</td>\n      <td>6.857143</td>\n    </tr>\n    <tr>\n      <th>5981</th>\n      <td>56</td>\n      <td>United States</td>\n      <td>Wyoming</td>\n      <td>2020-06-28</td>\n      <td>1417.0</td>\n      <td>25.0</td>\n      <td>1392.0</td>\n      <td>0.017960</td>\n      <td>31823</td>\n      <td>25</td>\n      <td>...</td>\n      <td>1.78507</td>\n      <td>0.024420</td>\n      <td>0.022115</td>\n      <td>3.628050e-16</td>\n      <td>0.015147</td>\n      <td>0.000000</td>\n      <td>0.043748</td>\n      <td>0.580309</td>\n      <td>31.428571</td>\n      <td>6.428571</td>\n    </tr>\n    <tr>\n      <th>5982</th>\n      <td>56</td>\n      <td>United States</td>\n      <td>Wyoming</td>\n      <td>2020-06-29</td>\n      <td>1450.0</td>\n      <td>33.0</td>\n      <td>1417.0</td>\n      <td>0.023289</td>\n      <td>31856</td>\n      <td>33</td>\n      <td>...</td>\n      <td>1.78507</td>\n      <td>0.023809</td>\n      <td>0.022090</td>\n      <td>3.628050e-16</td>\n      <td>0.014795</td>\n      <td>0.000000</td>\n      <td>0.043835</td>\n      <td>0.580309</td>\n      <td>31.428571</td>\n      <td>6.285714</td>\n    </tr>\n  </tbody>\n</table>\n<p>5 rows \u00d7 42 columns</p>\n</div>",
                        "text/plain": "     fips Country/Region Province/State       Date  Cumulative_Positive_Cases  \\\n5978   56  United States        Wyoming 2020-06-25                     1326.0   \n5979   56  United States        Wyoming 2020-06-26                     1368.0   \n5980   56  United States        Wyoming 2020-06-27                     1392.0   \n5981   56  United States        Wyoming 2020-06-28                     1417.0   \n5982   56  United States        Wyoming 2020-06-29                     1450.0   \n\n      Current_Day_Positive_Cases  Prior_Day_Positive_Cases  \\\n5978                        47.0                    1279.0   \n5979                        42.0                    1326.0   \n5980                        24.0                    1368.0   \n5981                        25.0                    1392.0   \n5982                        33.0                    1417.0   \n\n      Pct_Change_Positive_Cases  Cumulative_Total_Tests  \\\n5978                   0.036747                   30195   \n5979                   0.031674                   31774   \n5980                   0.017544                   31798   \n5981                   0.017960                   31823   \n5982                   0.023289                   31856   \n\n      Current_Day_Total_Tests  ...  popdensity19 - LOG  \\\n5978                       47  ...             1.78507   \n5979                     1579  ...             1.78507   \n5980                       24  ...             1.78507   \n5981                       25  ...             1.78507   \n5982                       33  ...             1.78507   \n\n      MA7_Pct_Change_Positive_Cases  MA7_Pct_Change_Total_Tests  \\\n5978                       0.021357                   -0.019989   \n5979                       0.022260                   -0.013783   \n5980                       0.024036                    0.022096   \n5981                       0.024420                    0.022115   \n5982                       0.023809                    0.022090   \n\n      MA7_Pct_Change_Deaths  MA7_Cumulative_Mortality_Rate  \\\n5978           1.587302e-02                       0.016236   \n5979           3.628050e-16                       0.015889   \n5980           3.628050e-16                       0.015518   \n5981           3.628050e-16                       0.015147   \n5982           3.628050e-16                       0.014795   \n\n      MA7_Current_Day_Mortality_Rate  MA7_Cumulative_Positive_Test_Rate  \\\n5978                        0.009852                           0.041987   \n5979                        0.000000                           0.043543   \n5980                        0.000000                           0.043637   \n5981                        0.000000                           0.043748   \n5982                        0.000000                           0.043835   \n\n      MA7_Current_Day_Positive_Test_Rate  MA7_Current_Day_Positive_Cases  \\\n5978                            0.446504                       26.000000   \n5979                            0.437358                       27.857143   \n5980                            0.580309                       30.428571   \n5981                            0.580309                       31.428571   \n5982                            0.580309                       31.428571   \n\n     MA7_Currently_Hospitalized  \n5978                   7.714286  \n5979                   7.285714  \n5980                   6.857143  \n5981                   6.428571  \n5982                   6.285714  \n\n[5 rows x 42 columns]"
                    },
                    "execution_count": 17,
                    "metadata": {},
                    "output_type": "execute_result"
                }
            ],
            "source": "rearranged_data['MA7_Pct_Change_Positive_Cases'] = rearranged_data.rolling(window=7)['Pct_Change_Positive_Cases'].mean()\nrearranged_data['MA7_Pct_Change_Total_Tests'] = rearranged_data.rolling(window=7)['Pct_Change_Total_Tests'].mean()\nrearranged_data['MA7_Pct_Change_Deaths'] = rearranged_data.rolling(window=7)['Pct_Change_Deaths'].mean()\nrearranged_data['MA7_Cumulative_Mortality_Rate'] = rearranged_data.rolling(window=7)['Cumulative_Mortality_Rate'].mean()\nrearranged_data['MA7_Current_Day_Mortality_Rate'] = rearranged_data.rolling(window=7)['Current_Day_Mortality_Rate'].mean()\nrearranged_data['MA7_Cumulative_Positive_Test_Rate'] = rearranged_data.rolling(window=7)['Cumulative_Positive_Test_Rate'].mean()\nrearranged_data['MA7_Current_Day_Positive_Test_Rate'] = rearranged_data.rolling(window=7)['Current_Day_Positive_Test_Rate'].mean()\nrearranged_data['MA7_Current_Day_Positive_Cases'] = rearranged_data.rolling(window=7)['Current_Day_Positive_Cases'].mean()\nrearranged_data['MA7_Currently_Hospitalized'] = rearranged_data.rolling(window=7)['Currently_Hospitalized'].mean()\nrearranged_data.tail()"
        },
        {
            "cell_type": "code",
            "execution_count": 18,
            "metadata": {},
            "outputs": [
                {
                    "data": {
                        "text/html": "<div>\n<style scoped>\n    .dataframe tbody tr th:only-of-type {\n        vertical-align: middle;\n    }\n\n    .dataframe tbody tr th {\n        vertical-align: top;\n    }\n\n    .dataframe thead th {\n        text-align: right;\n    }\n</style>\n<table border=\"1\" class=\"dataframe\">\n  <thead>\n    <tr style=\"text-align: right;\">\n      <th></th>\n      <th>fips</th>\n      <th>Country/Region</th>\n      <th>Province/State</th>\n      <th>Date</th>\n      <th>Cumulative_Positive_Cases</th>\n      <th>Current_Day_Positive_Cases</th>\n      <th>Prior_Day_Positive_Cases</th>\n      <th>Pct_Change_Positive_Cases</th>\n      <th>Cumulative_Total_Tests</th>\n      <th>Current_Day_Total_Tests</th>\n      <th>...</th>\n      <th>popdensity19 - LOG</th>\n      <th>MA7_Pct_Change_Positive_Cases</th>\n      <th>MA7_Pct_Change_Total_Tests</th>\n      <th>MA7_Pct_Change_Deaths</th>\n      <th>MA7_Cumulative_Mortality_Rate</th>\n      <th>MA7_Current_Day_Mortality_Rate</th>\n      <th>MA7_Cumulative_Positive_Test_Rate</th>\n      <th>MA7_Current_Day_Positive_Test_Rate</th>\n      <th>MA7_Current_Day_Positive_Cases</th>\n      <th>MA7_Currently_Hospitalized</th>\n    </tr>\n  </thead>\n  <tbody>\n    <tr>\n      <th>2443</th>\n      <td>25</td>\n      <td>United States</td>\n      <td>Massachusetts</td>\n      <td>2020-03-12</td>\n      <td>8.0</td>\n      <td>8.0</td>\n      <td>0.0</td>\n      <td>inf</td>\n      <td>8</td>\n      <td>8</td>\n      <td>...</td>\n      <td>6.784061</td>\n      <td>NaN</td>\n      <td>NaN</td>\n      <td>NaN</td>\n      <td>0.040689</td>\n      <td>0.032538</td>\n      <td>0.254363</td>\n      <td>0.185186</td>\n      <td>322.142857</td>\n      <td>416.142857</td>\n    </tr>\n    <tr>\n      <th>2444</th>\n      <td>25</td>\n      <td>United States</td>\n      <td>Massachusetts</td>\n      <td>2020-03-13</td>\n      <td>23.0</td>\n      <td>15.0</td>\n      <td>8.0</td>\n      <td>1.875000</td>\n      <td>23</td>\n      <td>15</td>\n      <td>...</td>\n      <td>6.784061</td>\n      <td>NaN</td>\n      <td>NaN</td>\n      <td>NaN</td>\n      <td>0.033893</td>\n      <td>0.025611</td>\n      <td>0.378189</td>\n      <td>0.321233</td>\n      <td>277.142857</td>\n      <td>338.428571</td>\n    </tr>\n    <tr>\n      <th>2445</th>\n      <td>25</td>\n      <td>United States</td>\n      <td>Massachusetts</td>\n      <td>2020-03-14</td>\n      <td>38.0</td>\n      <td>15.0</td>\n      <td>23.0</td>\n      <td>0.652174</td>\n      <td>38</td>\n      <td>15</td>\n      <td>...</td>\n      <td>6.784061</td>\n      <td>NaN</td>\n      <td>NaN</td>\n      <td>NaN</td>\n      <td>0.027098</td>\n      <td>0.018793</td>\n      <td>0.502213</td>\n      <td>0.456697</td>\n      <td>216.428571</td>\n      <td>265.428571</td>\n    </tr>\n    <tr>\n      <th>2446</th>\n      <td>25</td>\n      <td>United States</td>\n      <td>Massachusetts</td>\n      <td>2020-03-15</td>\n      <td>64.0</td>\n      <td>26.0</td>\n      <td>38.0</td>\n      <td>0.684211</td>\n      <td>648</td>\n      <td>610</td>\n      <td>...</td>\n      <td>6.784061</td>\n      <td>NaN</td>\n      <td>NaN</td>\n      <td>NaN</td>\n      <td>0.020309</td>\n      <td>0.013299</td>\n      <td>0.497671</td>\n      <td>0.456294</td>\n      <td>171.857143</td>\n      <td>195.857143</td>\n    </tr>\n    <tr>\n      <th>2447</th>\n      <td>25</td>\n      <td>United States</td>\n      <td>Massachusetts</td>\n      <td>2020-03-16</td>\n      <td>97.0</td>\n      <td>33.0</td>\n      <td>64.0</td>\n      <td>0.515625</td>\n      <td>1296</td>\n      <td>648</td>\n      <td>...</td>\n      <td>6.784061</td>\n      <td>NaN</td>\n      <td>NaN</td>\n      <td>NaN</td>\n      <td>0.013522</td>\n      <td>0.006902</td>\n      <td>0.489888</td>\n      <td>0.457118</td>\n      <td>128.714286</td>\n      <td>127.571429</td>\n    </tr>\n  </tbody>\n</table>\n<p>5 rows \u00d7 42 columns</p>\n</div>",
                        "text/plain": "     fips Country/Region Province/State       Date  Cumulative_Positive_Cases  \\\n2443   25  United States  Massachusetts 2020-03-12                        8.0   \n2444   25  United States  Massachusetts 2020-03-13                       23.0   \n2445   25  United States  Massachusetts 2020-03-14                       38.0   \n2446   25  United States  Massachusetts 2020-03-15                       64.0   \n2447   25  United States  Massachusetts 2020-03-16                       97.0   \n\n      Current_Day_Positive_Cases  Prior_Day_Positive_Cases  \\\n2443                         8.0                       0.0   \n2444                        15.0                       8.0   \n2445                        15.0                      23.0   \n2446                        26.0                      38.0   \n2447                        33.0                      64.0   \n\n      Pct_Change_Positive_Cases  Cumulative_Total_Tests  \\\n2443                        inf                       8   \n2444                   1.875000                      23   \n2445                   0.652174                      38   \n2446                   0.684211                     648   \n2447                   0.515625                    1296   \n\n      Current_Day_Total_Tests  ...  popdensity19 - LOG  \\\n2443                        8  ...            6.784061   \n2444                       15  ...            6.784061   \n2445                       15  ...            6.784061   \n2446                      610  ...            6.784061   \n2447                      648  ...            6.784061   \n\n      MA7_Pct_Change_Positive_Cases  MA7_Pct_Change_Total_Tests  \\\n2443                            NaN                         NaN   \n2444                            NaN                         NaN   \n2445                            NaN                         NaN   \n2446                            NaN                         NaN   \n2447                            NaN                         NaN   \n\n      MA7_Pct_Change_Deaths  MA7_Cumulative_Mortality_Rate  \\\n2443                    NaN                       0.040689   \n2444                    NaN                       0.033893   \n2445                    NaN                       0.027098   \n2446                    NaN                       0.020309   \n2447                    NaN                       0.013522   \n\n      MA7_Current_Day_Mortality_Rate  MA7_Cumulative_Positive_Test_Rate  \\\n2443                        0.032538                           0.254363   \n2444                        0.025611                           0.378189   \n2445                        0.018793                           0.502213   \n2446                        0.013299                           0.497671   \n2447                        0.006902                           0.489888   \n\n      MA7_Current_Day_Positive_Test_Rate  MA7_Current_Day_Positive_Cases  \\\n2443                            0.185186                      322.142857   \n2444                            0.321233                      277.142857   \n2445                            0.456697                      216.428571   \n2446                            0.456294                      171.857143   \n2447                            0.457118                      128.714286   \n\n     MA7_Currently_Hospitalized  \n2443                 416.142857  \n2444                 338.428571  \n2445                 265.428571  \n2446                 195.857143  \n2447                 127.571429  \n\n[5 rows x 42 columns]"
                    },
                    "execution_count": 18,
                    "metadata": {},
                    "output_type": "execute_result"
                }
            ],
            "source": "MA_only = rearranged_data[(rearranged_data['Province/State']=='Massachusetts')]\nMA_only.head()"
        },
        {
            "cell_type": "code",
            "execution_count": 19,
            "metadata": {},
            "outputs": [
                {
                    "data": {
                        "text/plain": "'ma_only_2020-06-30.csv'"
                    },
                    "execution_count": 19,
                    "metadata": {},
                    "output_type": "execute_result"
                }
            ],
            "source": "date=datetime.date.today().isoformat()\ndate\ndate_csv_all = 'all_us_'+date+'.csv'\ndate_csv_all\ndate_csv_ma = 'ma_only_'+date+'.csv'\ndate_csv_ma"
        },
        {
            "cell_type": "code",
            "execution_count": 23,
            "metadata": {},
            "outputs": [
                {
                    "name": "stderr",
                    "output_type": "stream",
                    "text": "2020-06-30 13:50:39,549 - __PROJECT_LIB__ - ERROR - failed to initialize ibmos2spark integration\nTraceback (most recent call last):\n  File \"/opt/conda/envs/Python36/lib/python3.6/site-packages/project_lib/storage/bcos.py\", line 141, in _initialize_bcos2spark\n    spark_context, credentials, config_name, \"bluemix_cos\")\n  File \"/opt/conda/envs/Python36/lib/python3.6/site-packages/ibmos2spark/osconfig.py\", line 226, in __init__\n    hconf = sparkcontext._jsc.hadoopConfiguration()\nAttributeError: 'str' object has no attribute '_jsc'\n"
                },
                {
                    "data": {
                        "text/plain": "{'file_name': 'all_us_2020-06-30.csv',\n 'message': 'File saved to project storage.',\n 'bucket_name': 'covid19-donotdelete-pr-ysdyv5czxoifrj',\n 'asset_id': 'd8458c8c-dd00-48b5-b5cf-0b3757f20064'}"
                    },
                    "execution_count": 23,
                    "metadata": {},
                    "output_type": "execute_result"
                }
            ],
            "source": "# The code was removed by Watson Studio for sharing."
        },
        {
            "cell_type": "code",
            "execution_count": null,
            "metadata": {},
            "outputs": [],
            "source": ""
        }
    ],
    "metadata": {
        "kernelspec": {
            "display_name": "Python 3.6",
            "language": "python",
            "name": "python3"
        },
        "language_info": {
            "codemirror_mode": {
                "name": "ipython",
                "version": 3
            },
            "file_extension": ".py",
            "mimetype": "text/x-python",
            "name": "python",
            "nbconvert_exporter": "python",
            "pygments_lexer": "ipython3",
            "version": "3.6.9"
        }
    },
    "nbformat": 4,
    "nbformat_minor": 1
}