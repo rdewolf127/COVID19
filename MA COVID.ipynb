{
    "cells": [
        {
            "cell_type": "code",
            "execution_count": 1,
            "metadata": {},
            "outputs": [],
            "source": "# The code was removed by Watson Studio for sharing."
        },
        {
            "cell_type": "code",
            "execution_count": 2,
            "metadata": {},
            "outputs": [
                {
                    "name": "stdout",
                    "output_type": "stream",
                    "text": "Collecting pycountry\n\u001b[?25l  Downloading https://files.pythonhosted.org/packages/16/b6/154fe93072051d8ce7bf197690957b6d0ac9a21d51c9a1d05bd7c6fdb16f/pycountry-19.8.18.tar.gz (10.0MB)\n\u001b[K     |\u2588\u2588\u2588\u2588\u2588\u2588\u2588\u2588\u2588\u2588\u2588\u2588\u2588\u2588\u2588\u2588\u2588\u2588\u2588\u2588\u2588\u2588\u2588\u2588\u2588\u2588\u2588\u2588\u2588\u2588\u2588\u2588| 10.0MB 9.3MB/s eta 0:00:01\n\u001b[?25hBuilding wheels for collected packages: pycountry\n  Building wheel for pycountry (setup.py) ... \u001b[?25ldone\n\u001b[?25h  Stored in directory: /home/dsxuser/.cache/pip/wheels/a2/98/bf/f0fa1c6bf8cf2cbdb750d583f84be51c2cd8272460b8b36bd3\nSuccessfully built pycountry\nInstalling collected packages: pycountry\nSuccessfully installed pycountry-19.8.18\nCollecting wget\n  Downloading https://files.pythonhosted.org/packages/47/6a/62e288da7bcda82b935ff0c6cfe542970f04e29c756b0e147251b2fb251f/wget-3.2.zip\nBuilding wheels for collected packages: wget\n  Building wheel for wget (setup.py) ... \u001b[?25ldone\n\u001b[?25h  Stored in directory: /home/dsxuser/.cache/pip/wheels/40/15/30/7d8f7cea2902b4db79e3fea550d7d7b85ecb27ef992b618f3f\nSuccessfully built wget\nInstalling collected packages: wget\nSuccessfully installed wget-3.2\n"
                }
            ],
            "source": "#Data Extracted from The COVID Tracking Project (as of 4/8/2020)\n#https://covidtracking.com/\nimport pandas as pd\nimport numpy as np\nimport requests\nimport json\nimport datetime\n!pip install pycountry\nimport pycountry\n!pip install 'wget'\nimport wget\nimport datetime"
        },
        {
            "cell_type": "code",
            "execution_count": 3,
            "metadata": {},
            "outputs": [],
            "source": "raw_response = requests.get(\"https://covidtracking.com/api/states/daily\").text\nraw_data = pd.DataFrame.from_dict(json.loads(raw_response))"
        },
        {
            "cell_type": "code",
            "execution_count": 4,
            "metadata": {},
            "outputs": [],
            "source": "data = raw_data.fillna(0)\ndata['Date'] = pd.to_datetime(data['date'].astype(str), format='%Y%m%d')\ndata = data.rename(\n    columns={\n        \"state\": \"ISO3166-2\",\n        \"positive\": \"Positive\",\n        \"negative\": \"Negative\",\n        \"pending\": \"Pending\",\n        \"death\": \"Death\",\n        \"totalTestResults\": \"Total\",\n        \"hospitalized\": \"Hospitalized\"\n    })\ndata = data.drop(labels=['dateChecked', \"date\"], axis='columns')\ndata['Country/Region'] = \"United States\"\ndata['ISO3166-1'] = \"US\""
        },
        {
            "cell_type": "code",
            "execution_count": 5,
            "metadata": {},
            "outputs": [],
            "source": "states = {k.code.replace(\"US-\", \"\"): k.name for k in pycountry.subdivisions.get(country_code=\"US\")}"
        },
        {
            "cell_type": "code",
            "execution_count": 6,
            "metadata": {},
            "outputs": [],
            "source": "data[\"Province/State\"] = data[\"ISO3166-2\"].apply(lambda x: states[x])"
        },
        {
            "cell_type": "code",
            "execution_count": 7,
            "metadata": {},
            "outputs": [],
            "source": "sorted_data = data.sort_values(by=['Province/State'] + ['Date'], ascending=True)"
        },
        {
            "cell_type": "code",
            "execution_count": 8,
            "metadata": {},
            "outputs": [],
            "source": "sorted_data['Current_Day_Positive_Cases'] = sorted_data['Positive'] - sorted_data.groupby(['Province/State'])[\"Positive\"].shift(1, fill_value=0)\nsorted_data['Current_Day_Total_Tests'] = sorted_data['Total'] - sorted_data.groupby(['Province/State'])[\"Total\"].shift(1, fill_value=0)\nsorted_data['Current_Day_Negative_Cases'] = sorted_data['Negative'] - sorted_data.groupby(['Province/State'])[\"Negative\"].shift(1, fill_value=0)\nsorted_data['Current_Day_Pending_Cases'] = sorted_data['Pending'] - sorted_data.groupby(['Province/State'])[\"Pending\"].shift(1, fill_value=0)\nsorted_data['Current_Day_Deaths'] = sorted_data['Death'] - sorted_data.groupby(['Province/State'])[\"Death\"].shift(1, fill_value=0)\nsorted_data['Current_Day_Hospitalized'] = sorted_data['Hospitalized'] - sorted_data.groupby(['Province/State'])[\"Hospitalized\"].shift(1, fill_value=0)\nsorted_data['Prior_Day_Positive_Cases'] = sorted_data.groupby('Province/State')['Positive'].shift(1, fill_value=0)\nsorted_data['Prior_Day_Deaths'] = sorted_data.groupby('Province/State')['Death'].shift(1, fill_value=0)\nsorted_data['Prior_Day_Total_Tests'] = sorted_data.groupby('Province/State')['Total'].shift(1, fill_value=0)\nsorted_data['Pct_Change_Positive_Cases'] = (sorted_data['Positive'] - sorted_data['Prior_Day_Positive_Cases'])/sorted_data['Prior_Day_Positive_Cases']\nsorted_data['Pct_Change_Deaths'] = (sorted_data['Death'] - sorted_data['Prior_Day_Deaths'])/sorted_data['Prior_Day_Deaths']\nsorted_data['Pct_Change_Total_Tests'] = (sorted_data['Total'] - sorted_data['Prior_Day_Total_Tests'])/sorted_data['Prior_Day_Total_Tests']\nsorted_data['Cumulative_Positive_Cases'] = sorted_data['Positive']\nsorted_data['Cumulative_Total_Tests'] = sorted_data['Total']\nsorted_data['Cumulative_Deaths'] = sorted_data['Death']"
        },
        {
            "cell_type": "code",
            "execution_count": 9,
            "metadata": {},
            "outputs": [
                {
                    "data": {
                        "text/plain": "'state_population_est_2019.csv'"
                    },
                    "execution_count": 9,
                    "metadata": {},
                    "output_type": "execute_result"
                }
            ],
            "source": "#bring in csv for state population estimates\nurls = ['https://raw.githubusercontent.com/rdewolf127/DataVisualization611/master/state_population_est_2019.csv']\nfor url in urls:\n    filename = wget.download(url)\nfilename"
        },
        {
            "cell_type": "code",
            "execution_count": 10,
            "metadata": {},
            "outputs": [
                {
                    "data": {
                        "text/html": "<div>\n<style scoped>\n    .dataframe tbody tr th:only-of-type {\n        vertical-align: middle;\n    }\n\n    .dataframe tbody tr th {\n        vertical-align: top;\n    }\n\n    .dataframe thead th {\n        text-align: right;\n    }\n</style>\n<table border=\"1\" class=\"dataframe\">\n  <thead>\n    <tr style=\"text-align: right;\">\n      <th></th>\n      <th>fips</th>\n      <th>Province/State</th>\n      <th>PopEst_2019</th>\n      <th>Per_500K_Factor</th>\n    </tr>\n  </thead>\n  <tbody>\n    <tr>\n      <th>0</th>\n      <td>01</td>\n      <td>.Alabama</td>\n      <td>4,903,185</td>\n      <td>9.806370</td>\n    </tr>\n    <tr>\n      <th>1</th>\n      <td>02</td>\n      <td>.Alaska</td>\n      <td>731,545</td>\n      <td>1.463090</td>\n    </tr>\n    <tr>\n      <th>2</th>\n      <td>04</td>\n      <td>.Arizona</td>\n      <td>7,278,717</td>\n      <td>14.557434</td>\n    </tr>\n    <tr>\n      <th>3</th>\n      <td>05</td>\n      <td>.Arkansas</td>\n      <td>3,017,804</td>\n      <td>6.035608</td>\n    </tr>\n    <tr>\n      <th>4</th>\n      <td>06</td>\n      <td>.California</td>\n      <td>39,512,223</td>\n      <td>79.024446</td>\n    </tr>\n  </tbody>\n</table>\n</div>",
                        "text/plain": "  fips Province/State PopEst_2019  Per_500K_Factor\n0   01       .Alabama   4,903,185         9.806370\n1   02        .Alaska     731,545         1.463090\n2   04       .Arizona   7,278,717        14.557434\n3   05      .Arkansas   3,017,804         6.035608\n4   06    .California  39,512,223        79.024446"
                    },
                    "execution_count": 10,
                    "metadata": {},
                    "output_type": "execute_result"
                }
            ],
            "source": "state_pop = pd.read_csv('state_population_est_2019.csv', dtype={'fips':'str'})\nstate_pop.head()"
        },
        {
            "cell_type": "code",
            "execution_count": 11,
            "metadata": {},
            "outputs": [
                {
                    "data": {
                        "text/plain": "'state_population_density.csv'"
                    },
                    "execution_count": 11,
                    "metadata": {},
                    "output_type": "execute_result"
                }
            ],
            "source": "#bring in csv for state population estimates\nurls = ['https://raw.githubusercontent.com/rdewolf127/DataVisualization611/master/state_population_density.csv']\nfor url in urls:\n    filename = wget.download(url)\nfilename"
        },
        {
            "cell_type": "code",
            "execution_count": 12,
            "metadata": {},
            "outputs": [
                {
                    "data": {
                        "text/html": "<div>\n<style scoped>\n    .dataframe tbody tr th:only-of-type {\n        vertical-align: middle;\n    }\n\n    .dataframe tbody tr th {\n        vertical-align: top;\n    }\n\n    .dataframe thead th {\n        text-align: right;\n    }\n</style>\n<table border=\"1\" class=\"dataframe\">\n  <thead>\n    <tr style=\"text-align: right;\">\n      <th></th>\n      <th>fips</th>\n      <th>state</th>\n      <th>landareasquaremiles</th>\n      <th>popdensity19</th>\n    </tr>\n  </thead>\n  <tbody>\n    <tr>\n      <th>0</th>\n      <td>01</td>\n      <td>Alabama</td>\n      <td>50645.33</td>\n      <td>96.81</td>\n    </tr>\n    <tr>\n      <th>1</th>\n      <td>02</td>\n      <td>Alaska</td>\n      <td>553559.49</td>\n      <td>1.32</td>\n    </tr>\n    <tr>\n      <th>2</th>\n      <td>04</td>\n      <td>Arizona</td>\n      <td>113594.09</td>\n      <td>64.08</td>\n    </tr>\n    <tr>\n      <th>3</th>\n      <td>05</td>\n      <td>Arkansas</td>\n      <td>52035.44</td>\n      <td>58.00</td>\n    </tr>\n    <tr>\n      <th>4</th>\n      <td>06</td>\n      <td>California</td>\n      <td>155779.19</td>\n      <td>253.64</td>\n    </tr>\n  </tbody>\n</table>\n</div>",
                        "text/plain": "  fips       state  landareasquaremiles  popdensity19\n0   01     Alabama             50645.33         96.81\n1   02      Alaska            553559.49          1.32\n2   04     Arizona            113594.09         64.08\n3   05    Arkansas             52035.44         58.00\n4   06  California            155779.19        253.64"
                    },
                    "execution_count": 12,
                    "metadata": {},
                    "output_type": "execute_result"
                }
            ],
            "source": "state_density = pd.read_csv('state_population_density.csv', dtype={'fips':'str'})\nstate_density.head()"
        },
        {
            "cell_type": "code",
            "execution_count": 13,
            "metadata": {},
            "outputs": [
                {
                    "data": {
                        "text/html": "<div>\n<style scoped>\n    .dataframe tbody tr th:only-of-type {\n        vertical-align: middle;\n    }\n\n    .dataframe tbody tr th {\n        vertical-align: top;\n    }\n\n    .dataframe thead th {\n        text-align: right;\n    }\n</style>\n<table border=\"1\" class=\"dataframe\">\n  <thead>\n    <tr style=\"text-align: right;\">\n      <th></th>\n      <th>Death</th>\n      <th>deathIncrease</th>\n      <th>fips</th>\n      <th>hash</th>\n      <th>Hospitalized</th>\n      <th>hospitalizedCumulative</th>\n      <th>hospitalizedCurrently</th>\n      <th>hospitalizedIncrease</th>\n      <th>inIcuCumulative</th>\n      <th>inIcuCurrently</th>\n      <th>...</th>\n      <th>Cumulative_Positive_Cases</th>\n      <th>Cumulative_Total_Tests</th>\n      <th>Cumulative_Deaths</th>\n      <th>Province/State_y</th>\n      <th>PopEst_2019</th>\n      <th>Per_500K_Factor</th>\n      <th>state</th>\n      <th>landareasquaremiles</th>\n      <th>popdensity19</th>\n      <th>Province/State</th>\n    </tr>\n  </thead>\n  <tbody>\n    <tr>\n      <th>0</th>\n      <td>0.0</td>\n      <td>0.0</td>\n      <td>01</td>\n      <td>1d94a3b00af81e57b35a00c0eeaa339ec76d962a</td>\n      <td>0.0</td>\n      <td>0.0</td>\n      <td>0.0</td>\n      <td>0.0</td>\n      <td>0.0</td>\n      <td>0.0</td>\n      <td>...</td>\n      <td>0.0</td>\n      <td>0.0</td>\n      <td>0.0</td>\n      <td>.Alabama</td>\n      <td>4,903,185</td>\n      <td>9.80637</td>\n      <td>Alabama</td>\n      <td>50645.33</td>\n      <td>96.81</td>\n      <td>Alabama</td>\n    </tr>\n    <tr>\n      <th>1</th>\n      <td>0.0</td>\n      <td>0.0</td>\n      <td>01</td>\n      <td>dc8486565b986e301a3cb52dda7d6014007253e4</td>\n      <td>0.0</td>\n      <td>0.0</td>\n      <td>0.0</td>\n      <td>0.0</td>\n      <td>0.0</td>\n      <td>0.0</td>\n      <td>...</td>\n      <td>0.0</td>\n      <td>0.0</td>\n      <td>0.0</td>\n      <td>.Alabama</td>\n      <td>4,903,185</td>\n      <td>9.80637</td>\n      <td>Alabama</td>\n      <td>50645.33</td>\n      <td>96.81</td>\n      <td>Alabama</td>\n    </tr>\n    <tr>\n      <th>2</th>\n      <td>0.0</td>\n      <td>0.0</td>\n      <td>01</td>\n      <td>3c15dbef6838aa05f46554b8f49c5d96677df531</td>\n      <td>0.0</td>\n      <td>0.0</td>\n      <td>0.0</td>\n      <td>0.0</td>\n      <td>0.0</td>\n      <td>0.0</td>\n      <td>...</td>\n      <td>0.0</td>\n      <td>0.0</td>\n      <td>0.0</td>\n      <td>.Alabama</td>\n      <td>4,903,185</td>\n      <td>9.80637</td>\n      <td>Alabama</td>\n      <td>50645.33</td>\n      <td>96.81</td>\n      <td>Alabama</td>\n    </tr>\n    <tr>\n      <th>3</th>\n      <td>0.0</td>\n      <td>0.0</td>\n      <td>01</td>\n      <td>d77d1bec988a8d98086652dbe2ec43647b585934</td>\n      <td>0.0</td>\n      <td>0.0</td>\n      <td>0.0</td>\n      <td>0.0</td>\n      <td>0.0</td>\n      <td>0.0</td>\n      <td>...</td>\n      <td>0.0</td>\n      <td>0.0</td>\n      <td>0.0</td>\n      <td>.Alabama</td>\n      <td>4,903,185</td>\n      <td>9.80637</td>\n      <td>Alabama</td>\n      <td>50645.33</td>\n      <td>96.81</td>\n      <td>Alabama</td>\n    </tr>\n    <tr>\n      <th>4</th>\n      <td>0.0</td>\n      <td>0.0</td>\n      <td>01</td>\n      <td>e4593577708b6182b9126434908df283def67838</td>\n      <td>0.0</td>\n      <td>0.0</td>\n      <td>0.0</td>\n      <td>0.0</td>\n      <td>0.0</td>\n      <td>0.0</td>\n      <td>...</td>\n      <td>0.0</td>\n      <td>10.0</td>\n      <td>0.0</td>\n      <td>.Alabama</td>\n      <td>4,903,185</td>\n      <td>9.80637</td>\n      <td>Alabama</td>\n      <td>50645.33</td>\n      <td>96.81</td>\n      <td>Alabama</td>\n    </tr>\n  </tbody>\n</table>\n<p>5 rows \u00d7 49 columns</p>\n</div>",
                        "text/plain": "   Death  deathIncrease fips                                      hash  \\\n0    0.0            0.0   01  1d94a3b00af81e57b35a00c0eeaa339ec76d962a   \n1    0.0            0.0   01  dc8486565b986e301a3cb52dda7d6014007253e4   \n2    0.0            0.0   01  3c15dbef6838aa05f46554b8f49c5d96677df531   \n3    0.0            0.0   01  d77d1bec988a8d98086652dbe2ec43647b585934   \n4    0.0            0.0   01  e4593577708b6182b9126434908df283def67838   \n\n   Hospitalized  hospitalizedCumulative  hospitalizedCurrently  \\\n0           0.0                     0.0                    0.0   \n1           0.0                     0.0                    0.0   \n2           0.0                     0.0                    0.0   \n3           0.0                     0.0                    0.0   \n4           0.0                     0.0                    0.0   \n\n   hospitalizedIncrease  inIcuCumulative  inIcuCurrently  ...  \\\n0                   0.0              0.0             0.0  ...   \n1                   0.0              0.0             0.0  ...   \n2                   0.0              0.0             0.0  ...   \n3                   0.0              0.0             0.0  ...   \n4                   0.0              0.0             0.0  ...   \n\n   Cumulative_Positive_Cases  Cumulative_Total_Tests  Cumulative_Deaths  \\\n0                        0.0                     0.0                0.0   \n1                        0.0                     0.0                0.0   \n2                        0.0                     0.0                0.0   \n3                        0.0                     0.0                0.0   \n4                        0.0                    10.0                0.0   \n\n   Province/State_y  PopEst_2019  Per_500K_Factor    state  \\\n0          .Alabama    4,903,185          9.80637  Alabama   \n1          .Alabama    4,903,185          9.80637  Alabama   \n2          .Alabama    4,903,185          9.80637  Alabama   \n3          .Alabama    4,903,185          9.80637  Alabama   \n4          .Alabama    4,903,185          9.80637  Alabama   \n\n   landareasquaremiles  popdensity19 Province/State  \n0             50645.33         96.81        Alabama  \n1             50645.33         96.81        Alabama  \n2             50645.33         96.81        Alabama  \n3             50645.33         96.81        Alabama  \n4             50645.33         96.81        Alabama  \n\n[5 rows x 49 columns]"
                    },
                    "execution_count": 13,
                    "metadata": {},
                    "output_type": "execute_result"
                }
            ],
            "source": "merged_data = pd.merge(sorted_data, state_pop, on='fips')\nmerged_data = pd.merge(merged_data, state_density, on='fips')\nmerged_data['Province/State']=merged_data['Province/State_x']\nmerged_data.head()"
        },
        {
            "cell_type": "code",
            "execution_count": 14,
            "metadata": {},
            "outputs": [],
            "source": "rearranged_data = merged_data.filter(items=['fips','Country/Region', 'Province/State', 'Date',\n                               'Cumulative_Positive_Cases', 'Current_Day_Positive_Cases',\n                               'Prior_Day_Positive_Cases','Pct_Change_Positive_Cases',\n                               'Cumulative_Total_Tests', 'Current_Day_Total_Tests',\n                               'Prior_Day_Total_Tests', 'Pct_Change_Total_Tests',\n                               'Cumulative_Deaths', 'Current_Day_Deaths',\n                               'Prior_Day_Deaths', 'Pct_Change_Deaths',\n                               'ISO3166-1', 'ISO3166-2', 'PopEst_2019', 'Per_500K_Factor','landareasquaremiles', 'popdensity19'])"
        },
        {
            "cell_type": "code",
            "execution_count": 15,
            "metadata": {},
            "outputs": [
                {
                    "data": {
                        "text/html": "<div>\n<style scoped>\n    .dataframe tbody tr th:only-of-type {\n        vertical-align: middle;\n    }\n\n    .dataframe tbody tr th {\n        vertical-align: top;\n    }\n\n    .dataframe thead th {\n        text-align: right;\n    }\n</style>\n<table border=\"1\" class=\"dataframe\">\n  <thead>\n    <tr style=\"text-align: right;\">\n      <th></th>\n      <th>fips</th>\n      <th>Country/Region</th>\n      <th>Province/State</th>\n      <th>Date</th>\n      <th>Cumulative_Positive_Cases</th>\n      <th>Current_Day_Positive_Cases</th>\n      <th>Prior_Day_Positive_Cases</th>\n      <th>Pct_Change_Positive_Cases</th>\n      <th>Cumulative_Total_Tests</th>\n      <th>Current_Day_Total_Tests</th>\n      <th>...</th>\n      <th>Current_Day_Deaths</th>\n      <th>Prior_Day_Deaths</th>\n      <th>Pct_Change_Deaths</th>\n      <th>ISO3166-1</th>\n      <th>ISO3166-2</th>\n      <th>PopEst_2019</th>\n      <th>Per_500K_Factor</th>\n      <th>landareasquaremiles</th>\n      <th>popdensity19</th>\n      <th>Last_Update_Date</th>\n    </tr>\n  </thead>\n  <tbody>\n    <tr>\n      <th>0</th>\n      <td>01</td>\n      <td>United States</td>\n      <td>Alabama</td>\n      <td>2020-03-07</td>\n      <td>0.0</td>\n      <td>0.0</td>\n      <td>0.0</td>\n      <td>NaN</td>\n      <td>0.0</td>\n      <td>0.0</td>\n      <td>...</td>\n      <td>0.0</td>\n      <td>0.0</td>\n      <td>NaN</td>\n      <td>US</td>\n      <td>AL</td>\n      <td>4,903,185</td>\n      <td>9.80637</td>\n      <td>50645.33</td>\n      <td>96.81</td>\n      <td>2020-04-23 21:57:08.261323</td>\n    </tr>\n    <tr>\n      <th>1</th>\n      <td>01</td>\n      <td>United States</td>\n      <td>Alabama</td>\n      <td>2020-03-08</td>\n      <td>0.0</td>\n      <td>0.0</td>\n      <td>0.0</td>\n      <td>NaN</td>\n      <td>0.0</td>\n      <td>0.0</td>\n      <td>...</td>\n      <td>0.0</td>\n      <td>0.0</td>\n      <td>NaN</td>\n      <td>US</td>\n      <td>AL</td>\n      <td>4,903,185</td>\n      <td>9.80637</td>\n      <td>50645.33</td>\n      <td>96.81</td>\n      <td>2020-04-23 21:57:08.261323</td>\n    </tr>\n    <tr>\n      <th>2</th>\n      <td>01</td>\n      <td>United States</td>\n      <td>Alabama</td>\n      <td>2020-03-09</td>\n      <td>0.0</td>\n      <td>0.0</td>\n      <td>0.0</td>\n      <td>NaN</td>\n      <td>0.0</td>\n      <td>0.0</td>\n      <td>...</td>\n      <td>0.0</td>\n      <td>0.0</td>\n      <td>NaN</td>\n      <td>US</td>\n      <td>AL</td>\n      <td>4,903,185</td>\n      <td>9.80637</td>\n      <td>50645.33</td>\n      <td>96.81</td>\n      <td>2020-04-23 21:57:08.261323</td>\n    </tr>\n    <tr>\n      <th>3</th>\n      <td>01</td>\n      <td>United States</td>\n      <td>Alabama</td>\n      <td>2020-03-10</td>\n      <td>0.0</td>\n      <td>0.0</td>\n      <td>0.0</td>\n      <td>NaN</td>\n      <td>0.0</td>\n      <td>0.0</td>\n      <td>...</td>\n      <td>0.0</td>\n      <td>0.0</td>\n      <td>NaN</td>\n      <td>US</td>\n      <td>AL</td>\n      <td>4,903,185</td>\n      <td>9.80637</td>\n      <td>50645.33</td>\n      <td>96.81</td>\n      <td>2020-04-23 21:57:08.261323</td>\n    </tr>\n    <tr>\n      <th>4</th>\n      <td>01</td>\n      <td>United States</td>\n      <td>Alabama</td>\n      <td>2020-03-11</td>\n      <td>0.0</td>\n      <td>0.0</td>\n      <td>0.0</td>\n      <td>NaN</td>\n      <td>10.0</td>\n      <td>10.0</td>\n      <td>...</td>\n      <td>0.0</td>\n      <td>0.0</td>\n      <td>NaN</td>\n      <td>US</td>\n      <td>AL</td>\n      <td>4,903,185</td>\n      <td>9.80637</td>\n      <td>50645.33</td>\n      <td>96.81</td>\n      <td>2020-04-23 21:57:08.261323</td>\n    </tr>\n  </tbody>\n</table>\n<p>5 rows \u00d7 23 columns</p>\n</div>",
                        "text/plain": "  fips Country/Region Province/State       Date  Cumulative_Positive_Cases  \\\n0   01  United States        Alabama 2020-03-07                        0.0   \n1   01  United States        Alabama 2020-03-08                        0.0   \n2   01  United States        Alabama 2020-03-09                        0.0   \n3   01  United States        Alabama 2020-03-10                        0.0   \n4   01  United States        Alabama 2020-03-11                        0.0   \n\n   Current_Day_Positive_Cases  Prior_Day_Positive_Cases  \\\n0                         0.0                       0.0   \n1                         0.0                       0.0   \n2                         0.0                       0.0   \n3                         0.0                       0.0   \n4                         0.0                       0.0   \n\n   Pct_Change_Positive_Cases  Cumulative_Total_Tests  Current_Day_Total_Tests  \\\n0                        NaN                     0.0                      0.0   \n1                        NaN                     0.0                      0.0   \n2                        NaN                     0.0                      0.0   \n3                        NaN                     0.0                      0.0   \n4                        NaN                    10.0                     10.0   \n\n   ...  Current_Day_Deaths  Prior_Day_Deaths  Pct_Change_Deaths  ISO3166-1  \\\n0  ...                 0.0               0.0                NaN         US   \n1  ...                 0.0               0.0                NaN         US   \n2  ...                 0.0               0.0                NaN         US   \n3  ...                 0.0               0.0                NaN         US   \n4  ...                 0.0               0.0                NaN         US   \n\n   ISO3166-2  PopEst_2019 Per_500K_Factor landareasquaremiles popdensity19  \\\n0         AL    4,903,185         9.80637            50645.33        96.81   \n1         AL    4,903,185         9.80637            50645.33        96.81   \n2         AL    4,903,185         9.80637            50645.33        96.81   \n3         AL    4,903,185         9.80637            50645.33        96.81   \n4         AL    4,903,185         9.80637            50645.33        96.81   \n\n            Last_Update_Date  \n0 2020-04-23 21:57:08.261323  \n1 2020-04-23 21:57:08.261323  \n2 2020-04-23 21:57:08.261323  \n3 2020-04-23 21:57:08.261323  \n4 2020-04-23 21:57:08.261323  \n\n[5 rows x 23 columns]"
                    },
                    "execution_count": 15,
                    "metadata": {},
                    "output_type": "execute_result"
                }
            ],
            "source": "rearranged_data.loc[:, \"Last_Update_Date\"] = datetime.datetime.utcnow()\nrearranged_data.head()"
        },
        {
            "cell_type": "code",
            "execution_count": 16,
            "metadata": {},
            "outputs": [
                {
                    "name": "stderr",
                    "output_type": "stream",
                    "text": "/opt/conda/envs/Python36/lib/python3.6/site-packages/ipykernel/__main__.py:6: RuntimeWarning: divide by zero encountered in log\n"
                },
                {
                    "data": {
                        "text/html": "<div>\n<style scoped>\n    .dataframe tbody tr th:only-of-type {\n        vertical-align: middle;\n    }\n\n    .dataframe tbody tr th {\n        vertical-align: top;\n    }\n\n    .dataframe thead th {\n        text-align: right;\n    }\n</style>\n<table border=\"1\" class=\"dataframe\">\n  <thead>\n    <tr style=\"text-align: right;\">\n      <th></th>\n      <th>fips</th>\n      <th>Country/Region</th>\n      <th>Province/State</th>\n      <th>Date</th>\n      <th>Cumulative_Positive_Cases</th>\n      <th>Current_Day_Positive_Cases</th>\n      <th>Prior_Day_Positive_Cases</th>\n      <th>Pct_Change_Positive_Cases</th>\n      <th>Cumulative_Total_Tests</th>\n      <th>Current_Day_Total_Tests</th>\n      <th>...</th>\n      <th>landareasquaremiles</th>\n      <th>popdensity19</th>\n      <th>Last_Update_Date</th>\n      <th>Cumulative_Mortality_Rate</th>\n      <th>Cumulative_Positive_Test_Rate</th>\n      <th>Current_Day_Mortality_Rate</th>\n      <th>Current_Day_Positive_Test_Rate</th>\n      <th>Cumulative_Positive_Cases_Per_500K</th>\n      <th>Cumulative_Positive_Cases_Per_500K - LOG</th>\n      <th>popdensity19 - LOG</th>\n    </tr>\n  </thead>\n  <tbody>\n    <tr>\n      <th>0</th>\n      <td>01</td>\n      <td>United States</td>\n      <td>Alabama</td>\n      <td>2020-03-07</td>\n      <td>0.0</td>\n      <td>0.0</td>\n      <td>0.0</td>\n      <td>NaN</td>\n      <td>0.0</td>\n      <td>0.0</td>\n      <td>...</td>\n      <td>50645.33</td>\n      <td>96.81</td>\n      <td>2020-04-23 21:57:08.261323</td>\n      <td>NaN</td>\n      <td>NaN</td>\n      <td>NaN</td>\n      <td>NaN</td>\n      <td>0.0</td>\n      <td>-inf</td>\n      <td>4.57275</td>\n    </tr>\n    <tr>\n      <th>1</th>\n      <td>01</td>\n      <td>United States</td>\n      <td>Alabama</td>\n      <td>2020-03-08</td>\n      <td>0.0</td>\n      <td>0.0</td>\n      <td>0.0</td>\n      <td>NaN</td>\n      <td>0.0</td>\n      <td>0.0</td>\n      <td>...</td>\n      <td>50645.33</td>\n      <td>96.81</td>\n      <td>2020-04-23 21:57:08.261323</td>\n      <td>NaN</td>\n      <td>NaN</td>\n      <td>NaN</td>\n      <td>NaN</td>\n      <td>0.0</td>\n      <td>-inf</td>\n      <td>4.57275</td>\n    </tr>\n    <tr>\n      <th>2</th>\n      <td>01</td>\n      <td>United States</td>\n      <td>Alabama</td>\n      <td>2020-03-09</td>\n      <td>0.0</td>\n      <td>0.0</td>\n      <td>0.0</td>\n      <td>NaN</td>\n      <td>0.0</td>\n      <td>0.0</td>\n      <td>...</td>\n      <td>50645.33</td>\n      <td>96.81</td>\n      <td>2020-04-23 21:57:08.261323</td>\n      <td>NaN</td>\n      <td>NaN</td>\n      <td>NaN</td>\n      <td>NaN</td>\n      <td>0.0</td>\n      <td>-inf</td>\n      <td>4.57275</td>\n    </tr>\n    <tr>\n      <th>3</th>\n      <td>01</td>\n      <td>United States</td>\n      <td>Alabama</td>\n      <td>2020-03-10</td>\n      <td>0.0</td>\n      <td>0.0</td>\n      <td>0.0</td>\n      <td>NaN</td>\n      <td>0.0</td>\n      <td>0.0</td>\n      <td>...</td>\n      <td>50645.33</td>\n      <td>96.81</td>\n      <td>2020-04-23 21:57:08.261323</td>\n      <td>NaN</td>\n      <td>NaN</td>\n      <td>NaN</td>\n      <td>NaN</td>\n      <td>0.0</td>\n      <td>-inf</td>\n      <td>4.57275</td>\n    </tr>\n    <tr>\n      <th>4</th>\n      <td>01</td>\n      <td>United States</td>\n      <td>Alabama</td>\n      <td>2020-03-11</td>\n      <td>0.0</td>\n      <td>0.0</td>\n      <td>0.0</td>\n      <td>NaN</td>\n      <td>10.0</td>\n      <td>10.0</td>\n      <td>...</td>\n      <td>50645.33</td>\n      <td>96.81</td>\n      <td>2020-04-23 21:57:08.261323</td>\n      <td>NaN</td>\n      <td>0.0</td>\n      <td>NaN</td>\n      <td>0.0</td>\n      <td>0.0</td>\n      <td>-inf</td>\n      <td>4.57275</td>\n    </tr>\n  </tbody>\n</table>\n<p>5 rows \u00d7 30 columns</p>\n</div>",
                        "text/plain": "  fips Country/Region Province/State       Date  Cumulative_Positive_Cases  \\\n0   01  United States        Alabama 2020-03-07                        0.0   \n1   01  United States        Alabama 2020-03-08                        0.0   \n2   01  United States        Alabama 2020-03-09                        0.0   \n3   01  United States        Alabama 2020-03-10                        0.0   \n4   01  United States        Alabama 2020-03-11                        0.0   \n\n   Current_Day_Positive_Cases  Prior_Day_Positive_Cases  \\\n0                         0.0                       0.0   \n1                         0.0                       0.0   \n2                         0.0                       0.0   \n3                         0.0                       0.0   \n4                         0.0                       0.0   \n\n   Pct_Change_Positive_Cases  Cumulative_Total_Tests  Current_Day_Total_Tests  \\\n0                        NaN                     0.0                      0.0   \n1                        NaN                     0.0                      0.0   \n2                        NaN                     0.0                      0.0   \n3                        NaN                     0.0                      0.0   \n4                        NaN                    10.0                     10.0   \n\n   ...  landareasquaremiles  popdensity19           Last_Update_Date  \\\n0  ...             50645.33         96.81 2020-04-23 21:57:08.261323   \n1  ...             50645.33         96.81 2020-04-23 21:57:08.261323   \n2  ...             50645.33         96.81 2020-04-23 21:57:08.261323   \n3  ...             50645.33         96.81 2020-04-23 21:57:08.261323   \n4  ...             50645.33         96.81 2020-04-23 21:57:08.261323   \n\n   Cumulative_Mortality_Rate  Cumulative_Positive_Test_Rate  \\\n0                        NaN                            NaN   \n1                        NaN                            NaN   \n2                        NaN                            NaN   \n3                        NaN                            NaN   \n4                        NaN                            0.0   \n\n   Current_Day_Mortality_Rate Current_Day_Positive_Test_Rate  \\\n0                         NaN                            NaN   \n1                         NaN                            NaN   \n2                         NaN                            NaN   \n3                         NaN                            NaN   \n4                         NaN                            0.0   \n\n  Cumulative_Positive_Cases_Per_500K Cumulative_Positive_Cases_Per_500K - LOG  \\\n0                                0.0                                     -inf   \n1                                0.0                                     -inf   \n2                                0.0                                     -inf   \n3                                0.0                                     -inf   \n4                                0.0                                     -inf   \n\n   popdensity19 - LOG  \n0             4.57275  \n1             4.57275  \n2             4.57275  \n3             4.57275  \n4             4.57275  \n\n[5 rows x 30 columns]"
                    },
                    "execution_count": 16,
                    "metadata": {},
                    "output_type": "execute_result"
                }
            ],
            "source": "rearranged_data['Cumulative_Mortality_Rate']=rearranged_data['Cumulative_Deaths']/rearranged_data['Cumulative_Positive_Cases']\nrearranged_data['Cumulative_Positive_Test_Rate'] = rearranged_data['Cumulative_Positive_Cases']/rearranged_data['Cumulative_Total_Tests']\nrearranged_data['Current_Day_Mortality_Rate']=rearranged_data['Current_Day_Deaths']/rearranged_data['Current_Day_Positive_Cases']\nrearranged_data['Current_Day_Positive_Test_Rate'] = rearranged_data['Current_Day_Positive_Cases']/rearranged_data['Current_Day_Total_Tests']\nrearranged_data['Cumulative_Positive_Cases_Per_500K'] = round(rearranged_data['Cumulative_Positive_Cases']/rearranged_data['Per_500K_Factor'],0)\nrearranged_data['Cumulative_Positive_Cases_Per_500K - LOG'] = np.log(rearranged_data['Cumulative_Positive_Cases_Per_500K'])\nrearranged_data['popdensity19 - LOG'] = np.log(rearranged_data['popdensity19'])\nrearranged_data.head()"
        },
        {
            "cell_type": "code",
            "execution_count": 17,
            "metadata": {},
            "outputs": [
                {
                    "data": {
                        "text/html": "<div>\n<style scoped>\n    .dataframe tbody tr th:only-of-type {\n        vertical-align: middle;\n    }\n\n    .dataframe tbody tr th {\n        vertical-align: top;\n    }\n\n    .dataframe thead th {\n        text-align: right;\n    }\n</style>\n<table border=\"1\" class=\"dataframe\">\n  <thead>\n    <tr style=\"text-align: right;\">\n      <th></th>\n      <th>fips</th>\n      <th>Country/Region</th>\n      <th>Province/State</th>\n      <th>Date</th>\n      <th>Cumulative_Positive_Cases</th>\n      <th>Current_Day_Positive_Cases</th>\n      <th>Prior_Day_Positive_Cases</th>\n      <th>Pct_Change_Positive_Cases</th>\n      <th>Cumulative_Total_Tests</th>\n      <th>Current_Day_Total_Tests</th>\n      <th>...</th>\n      <th>Cumulative_Positive_Cases_Per_500K - LOG</th>\n      <th>popdensity19 - LOG</th>\n      <th>MA7_Pct_Change_Positive_Cases</th>\n      <th>MA7_Pct_Change_Total_Tests</th>\n      <th>MA7_Pct_Change_Deaths</th>\n      <th>MA7_Cumulative_Mortality_Rate</th>\n      <th>MA7_Current_Day_Mortality_Rate</th>\n      <th>MA7_Cumulative_Positive_Test_Rate</th>\n      <th>MA7_Current_Day_Positive_Test_Rate</th>\n      <th>MA7_Current_Day_Positive_Cases</th>\n    </tr>\n  </thead>\n  <tbody>\n    <tr>\n      <th>0</th>\n      <td>01</td>\n      <td>United States</td>\n      <td>Alabama</td>\n      <td>2020-03-07</td>\n      <td>0.0</td>\n      <td>0.0</td>\n      <td>0.0</td>\n      <td>NaN</td>\n      <td>0.0</td>\n      <td>0.0</td>\n      <td>...</td>\n      <td>-inf</td>\n      <td>4.57275</td>\n      <td>NaN</td>\n      <td>NaN</td>\n      <td>NaN</td>\n      <td>NaN</td>\n      <td>NaN</td>\n      <td>NaN</td>\n      <td>NaN</td>\n      <td>NaN</td>\n    </tr>\n    <tr>\n      <th>1</th>\n      <td>01</td>\n      <td>United States</td>\n      <td>Alabama</td>\n      <td>2020-03-08</td>\n      <td>0.0</td>\n      <td>0.0</td>\n      <td>0.0</td>\n      <td>NaN</td>\n      <td>0.0</td>\n      <td>0.0</td>\n      <td>...</td>\n      <td>-inf</td>\n      <td>4.57275</td>\n      <td>NaN</td>\n      <td>NaN</td>\n      <td>NaN</td>\n      <td>NaN</td>\n      <td>NaN</td>\n      <td>NaN</td>\n      <td>NaN</td>\n      <td>NaN</td>\n    </tr>\n    <tr>\n      <th>2</th>\n      <td>01</td>\n      <td>United States</td>\n      <td>Alabama</td>\n      <td>2020-03-09</td>\n      <td>0.0</td>\n      <td>0.0</td>\n      <td>0.0</td>\n      <td>NaN</td>\n      <td>0.0</td>\n      <td>0.0</td>\n      <td>...</td>\n      <td>-inf</td>\n      <td>4.57275</td>\n      <td>NaN</td>\n      <td>NaN</td>\n      <td>NaN</td>\n      <td>NaN</td>\n      <td>NaN</td>\n      <td>NaN</td>\n      <td>NaN</td>\n      <td>NaN</td>\n    </tr>\n    <tr>\n      <th>3</th>\n      <td>01</td>\n      <td>United States</td>\n      <td>Alabama</td>\n      <td>2020-03-10</td>\n      <td>0.0</td>\n      <td>0.0</td>\n      <td>0.0</td>\n      <td>NaN</td>\n      <td>0.0</td>\n      <td>0.0</td>\n      <td>...</td>\n      <td>-inf</td>\n      <td>4.57275</td>\n      <td>NaN</td>\n      <td>NaN</td>\n      <td>NaN</td>\n      <td>NaN</td>\n      <td>NaN</td>\n      <td>NaN</td>\n      <td>NaN</td>\n      <td>NaN</td>\n    </tr>\n    <tr>\n      <th>4</th>\n      <td>01</td>\n      <td>United States</td>\n      <td>Alabama</td>\n      <td>2020-03-11</td>\n      <td>0.0</td>\n      <td>0.0</td>\n      <td>0.0</td>\n      <td>NaN</td>\n      <td>10.0</td>\n      <td>10.0</td>\n      <td>...</td>\n      <td>-inf</td>\n      <td>4.57275</td>\n      <td>NaN</td>\n      <td>NaN</td>\n      <td>NaN</td>\n      <td>NaN</td>\n      <td>NaN</td>\n      <td>NaN</td>\n      <td>NaN</td>\n      <td>NaN</td>\n    </tr>\n  </tbody>\n</table>\n<p>5 rows \u00d7 38 columns</p>\n</div>",
                        "text/plain": "  fips Country/Region Province/State       Date  Cumulative_Positive_Cases  \\\n0   01  United States        Alabama 2020-03-07                        0.0   \n1   01  United States        Alabama 2020-03-08                        0.0   \n2   01  United States        Alabama 2020-03-09                        0.0   \n3   01  United States        Alabama 2020-03-10                        0.0   \n4   01  United States        Alabama 2020-03-11                        0.0   \n\n   Current_Day_Positive_Cases  Prior_Day_Positive_Cases  \\\n0                         0.0                       0.0   \n1                         0.0                       0.0   \n2                         0.0                       0.0   \n3                         0.0                       0.0   \n4                         0.0                       0.0   \n\n   Pct_Change_Positive_Cases  Cumulative_Total_Tests  Current_Day_Total_Tests  \\\n0                        NaN                     0.0                      0.0   \n1                        NaN                     0.0                      0.0   \n2                        NaN                     0.0                      0.0   \n3                        NaN                     0.0                      0.0   \n4                        NaN                    10.0                     10.0   \n\n   ...  Cumulative_Positive_Cases_Per_500K - LOG  popdensity19 - LOG  \\\n0  ...                                      -inf             4.57275   \n1  ...                                      -inf             4.57275   \n2  ...                                      -inf             4.57275   \n3  ...                                      -inf             4.57275   \n4  ...                                      -inf             4.57275   \n\n   MA7_Pct_Change_Positive_Cases  MA7_Pct_Change_Total_Tests  \\\n0                            NaN                         NaN   \n1                            NaN                         NaN   \n2                            NaN                         NaN   \n3                            NaN                         NaN   \n4                            NaN                         NaN   \n\n   MA7_Pct_Change_Deaths  MA7_Cumulative_Mortality_Rate  \\\n0                    NaN                            NaN   \n1                    NaN                            NaN   \n2                    NaN                            NaN   \n3                    NaN                            NaN   \n4                    NaN                            NaN   \n\n  MA7_Current_Day_Mortality_Rate MA7_Cumulative_Positive_Test_Rate  \\\n0                            NaN                               NaN   \n1                            NaN                               NaN   \n2                            NaN                               NaN   \n3                            NaN                               NaN   \n4                            NaN                               NaN   \n\n  MA7_Current_Day_Positive_Test_Rate  MA7_Current_Day_Positive_Cases  \n0                                NaN                             NaN  \n1                                NaN                             NaN  \n2                                NaN                             NaN  \n3                                NaN                             NaN  \n4                                NaN                             NaN  \n\n[5 rows x 38 columns]"
                    },
                    "execution_count": 17,
                    "metadata": {},
                    "output_type": "execute_result"
                }
            ],
            "source": "rearranged_data['MA7_Pct_Change_Positive_Cases'] = rearranged_data.rolling(window=7)['Pct_Change_Positive_Cases'].mean()\nrearranged_data['MA7_Pct_Change_Total_Tests'] = rearranged_data.rolling(window=7)['Pct_Change_Total_Tests'].mean()\nrearranged_data['MA7_Pct_Change_Deaths'] = rearranged_data.rolling(window=7)['Pct_Change_Deaths'].mean()\nrearranged_data['MA7_Cumulative_Mortality_Rate'] = rearranged_data.rolling(window=7)['Cumulative_Mortality_Rate'].mean()\nrearranged_data['MA7_Current_Day_Mortality_Rate'] = rearranged_data.rolling(window=7)['Current_Day_Mortality_Rate'].mean()\nrearranged_data['MA7_Cumulative_Positive_Test_Rate'] = rearranged_data.rolling(window=7)['Cumulative_Positive_Test_Rate'].mean()\nrearranged_data['MA7_Current_Day_Positive_Test_Rate'] = rearranged_data.rolling(window=7)['Current_Day_Positive_Test_Rate'].mean()\nrearranged_data['MA7_Current_Day_Positive_Cases'] = rearranged_data.rolling(window=7)['Current_Day_Positive_Cases'].mean()\nrearranged_data.head()"
        },
        {
            "cell_type": "code",
            "execution_count": 18,
            "metadata": {},
            "outputs": [
                {
                    "data": {
                        "text/html": "<div>\n<style scoped>\n    .dataframe tbody tr th:only-of-type {\n        vertical-align: middle;\n    }\n\n    .dataframe tbody tr th {\n        vertical-align: top;\n    }\n\n    .dataframe thead th {\n        text-align: right;\n    }\n</style>\n<table border=\"1\" class=\"dataframe\">\n  <thead>\n    <tr style=\"text-align: right;\">\n      <th></th>\n      <th>fips</th>\n      <th>Country/Region</th>\n      <th>Province/State</th>\n      <th>Date</th>\n      <th>Cumulative_Positive_Cases</th>\n      <th>Current_Day_Positive_Cases</th>\n      <th>Prior_Day_Positive_Cases</th>\n      <th>Pct_Change_Positive_Cases</th>\n      <th>Cumulative_Total_Tests</th>\n      <th>Current_Day_Total_Tests</th>\n      <th>...</th>\n      <th>Cumulative_Positive_Cases_Per_500K - LOG</th>\n      <th>popdensity19 - LOG</th>\n      <th>MA7_Pct_Change_Positive_Cases</th>\n      <th>MA7_Pct_Change_Total_Tests</th>\n      <th>MA7_Pct_Change_Deaths</th>\n      <th>MA7_Cumulative_Mortality_Rate</th>\n      <th>MA7_Current_Day_Mortality_Rate</th>\n      <th>MA7_Cumulative_Positive_Test_Rate</th>\n      <th>MA7_Current_Day_Positive_Test_Rate</th>\n      <th>MA7_Current_Day_Positive_Cases</th>\n    </tr>\n  </thead>\n  <tbody>\n    <tr>\n      <th>1082</th>\n      <td>25</td>\n      <td>United States</td>\n      <td>Massachusetts</td>\n      <td>2020-04-19</td>\n      <td>38077.0</td>\n      <td>1705.0</td>\n      <td>36372.0</td>\n      <td>0.046877</td>\n      <td>162241.0</td>\n      <td>5435.0</td>\n      <td>...</td>\n      <td>7.923710</td>\n      <td>6.784061</td>\n      <td>0.059142</td>\n      <td>0.048208</td>\n      <td>0.123447</td>\n      <td>0.038517</td>\n      <td>0.076199</td>\n      <td>0.227975</td>\n      <td>0.280804</td>\n      <td>1800.285714</td>\n    </tr>\n    <tr>\n      <th>1083</th>\n      <td>25</td>\n      <td>United States</td>\n      <td>Massachusetts</td>\n      <td>2020-04-20</td>\n      <td>38077.0</td>\n      <td>0.0</td>\n      <td>38077.0</td>\n      <td>0.000000</td>\n      <td>162241.0</td>\n      <td>0.0</td>\n      <td>...</td>\n      <td>7.923710</td>\n      <td>6.784061</td>\n      <td>0.051336</td>\n      <td>0.041698</td>\n      <td>0.106818</td>\n      <td>0.040430</td>\n      <td>NaN</td>\n      <td>0.230055</td>\n      <td>NaN</td>\n      <td>1601.428571</td>\n    </tr>\n    <tr>\n      <th>1084</th>\n      <td>25</td>\n      <td>United States</td>\n      <td>Massachusetts</td>\n      <td>2020-04-21</td>\n      <td>41199.0</td>\n      <td>3122.0</td>\n      <td>38077.0</td>\n      <td>0.081992</td>\n      <td>175372.0</td>\n      <td>13131.0</td>\n      <td>...</td>\n      <td>8.002694</td>\n      <td>6.784061</td>\n      <td>0.056158</td>\n      <td>0.047991</td>\n      <td>0.109045</td>\n      <td>0.042376</td>\n      <td>NaN</td>\n      <td>0.231823</td>\n      <td>NaN</td>\n      <td>1862.285714</td>\n    </tr>\n    <tr>\n      <th>1085</th>\n      <td>25</td>\n      <td>United States</td>\n      <td>Massachusetts</td>\n      <td>2020-04-22</td>\n      <td>42944.0</td>\n      <td>1745.0</td>\n      <td>41199.0</td>\n      <td>0.042355</td>\n      <td>180462.0</td>\n      <td>5090.0</td>\n      <td>...</td>\n      <td>8.043984</td>\n      <td>6.784061</td>\n      <td>0.053306</td>\n      <td>0.045960</td>\n      <td>0.102604</td>\n      <td>0.044344</td>\n      <td>NaN</td>\n      <td>0.233446</td>\n      <td>NaN</td>\n      <td>1860.857143</td>\n    </tr>\n    <tr>\n      <th>1086</th>\n      <td>25</td>\n      <td>United States</td>\n      <td>Massachusetts</td>\n      <td>2020-04-23</td>\n      <td>46023.0</td>\n      <td>3079.0</td>\n      <td>42944.0</td>\n      <td>0.071698</td>\n      <td>195076.0</td>\n      <td>14614.0</td>\n      <td>...</td>\n      <td>8.113427</td>\n      <td>6.784061</td>\n      <td>0.052743</td>\n      <td>0.048061</td>\n      <td>0.096594</td>\n      <td>0.046142</td>\n      <td>NaN</td>\n      <td>0.234492</td>\n      <td>NaN</td>\n      <td>1977.428571</td>\n    </tr>\n  </tbody>\n</table>\n<p>5 rows \u00d7 38 columns</p>\n</div>",
                        "text/plain": "     fips Country/Region Province/State       Date  Cumulative_Positive_Cases  \\\n1082   25  United States  Massachusetts 2020-04-19                    38077.0   \n1083   25  United States  Massachusetts 2020-04-20                    38077.0   \n1084   25  United States  Massachusetts 2020-04-21                    41199.0   \n1085   25  United States  Massachusetts 2020-04-22                    42944.0   \n1086   25  United States  Massachusetts 2020-04-23                    46023.0   \n\n      Current_Day_Positive_Cases  Prior_Day_Positive_Cases  \\\n1082                      1705.0                   36372.0   \n1083                         0.0                   38077.0   \n1084                      3122.0                   38077.0   \n1085                      1745.0                   41199.0   \n1086                      3079.0                   42944.0   \n\n      Pct_Change_Positive_Cases  Cumulative_Total_Tests  \\\n1082                   0.046877                162241.0   \n1083                   0.000000                162241.0   \n1084                   0.081992                175372.0   \n1085                   0.042355                180462.0   \n1086                   0.071698                195076.0   \n\n      Current_Day_Total_Tests  ...  Cumulative_Positive_Cases_Per_500K - LOG  \\\n1082                   5435.0  ...                                  7.923710   \n1083                      0.0  ...                                  7.923710   \n1084                  13131.0  ...                                  8.002694   \n1085                   5090.0  ...                                  8.043984   \n1086                  14614.0  ...                                  8.113427   \n\n      popdensity19 - LOG  MA7_Pct_Change_Positive_Cases  \\\n1082            6.784061                       0.059142   \n1083            6.784061                       0.051336   \n1084            6.784061                       0.056158   \n1085            6.784061                       0.053306   \n1086            6.784061                       0.052743   \n\n      MA7_Pct_Change_Total_Tests  MA7_Pct_Change_Deaths  \\\n1082                    0.048208               0.123447   \n1083                    0.041698               0.106818   \n1084                    0.047991               0.109045   \n1085                    0.045960               0.102604   \n1086                    0.048061               0.096594   \n\n      MA7_Cumulative_Mortality_Rate MA7_Current_Day_Mortality_Rate  \\\n1082                       0.038517                       0.076199   \n1083                       0.040430                            NaN   \n1084                       0.042376                            NaN   \n1085                       0.044344                            NaN   \n1086                       0.046142                            NaN   \n\n     MA7_Cumulative_Positive_Test_Rate MA7_Current_Day_Positive_Test_Rate  \\\n1082                          0.227975                           0.280804   \n1083                          0.230055                                NaN   \n1084                          0.231823                                NaN   \n1085                          0.233446                                NaN   \n1086                          0.234492                                NaN   \n\n      MA7_Current_Day_Positive_Cases  \n1082                     1800.285714  \n1083                     1601.428571  \n1084                     1862.285714  \n1085                     1860.857143  \n1086                     1977.428571  \n\n[5 rows x 38 columns]"
                    },
                    "execution_count": 18,
                    "metadata": {},
                    "output_type": "execute_result"
                }
            ],
            "source": "MA_only = rearranged_data[(rearranged_data['Province/State']=='Massachusetts')]\nMA_only.tail()"
        },
        {
            "cell_type": "code",
            "execution_count": 19,
            "metadata": {},
            "outputs": [
                {
                    "data": {
                        "text/plain": "'ma_only_2020-04-23.csv'"
                    },
                    "execution_count": 19,
                    "metadata": {},
                    "output_type": "execute_result"
                }
            ],
            "source": "date=datetime.date.today().isoformat()\ndate\ndate_csv_all = 'all_us_'+date+'.csv'\ndate_csv_all\ndate_csv_ma = 'ma_only_'+date+'.csv'\ndate_csv_ma"
        },
        {
            "cell_type": "code",
            "execution_count": 20,
            "metadata": {},
            "outputs": [
                {
                    "data": {
                        "text/plain": "{'file_name': 'all_us_2020-04-23.csv',\n 'message': 'File saved to project storage.',\n 'bucket_name': 'covid19-donotdelete-pr-ysdyv5czxoifrj',\n 'asset_id': '04f0d22f-e987-48da-81d8-9168cb3dfa67'}"
                    },
                    "execution_count": 20,
                    "metadata": {},
                    "output_type": "execute_result"
                }
            ],
            "source": "# The code was removed by Watson Studio for sharing."
        },
        {
            "cell_type": "code",
            "execution_count": 21,
            "metadata": {},
            "outputs": [
                {
                    "data": {
                        "text/plain": "{'file_name': 'ma_only_2020-04-23.csv',\n 'message': 'File saved to project storage.',\n 'bucket_name': 'covid19-donotdelete-pr-ysdyv5czxoifrj',\n 'asset_id': '3e578e9b-0c56-4592-9eca-4ec160d7fd8d'}"
                    },
                    "execution_count": 21,
                    "metadata": {},
                    "output_type": "execute_result"
                }
            ],
            "source": "# The code was removed by Watson Studio for sharing."
        },
        {
            "cell_type": "code",
            "execution_count": null,
            "metadata": {},
            "outputs": [],
            "source": ""
        },
        {
            "cell_type": "code",
            "execution_count": null,
            "metadata": {},
            "outputs": [],
            "source": ""
        },
        {
            "cell_type": "code",
            "execution_count": null,
            "metadata": {},
            "outputs": [],
            "source": ""
        },
        {
            "cell_type": "code",
            "execution_count": null,
            "metadata": {},
            "outputs": [],
            "source": ""
        }
    ],
    "metadata": {
        "kernelspec": {
            "display_name": "Python 3.6",
            "language": "python",
            "name": "python3"
        },
        "language_info": {
            "codemirror_mode": {
                "name": "ipython",
                "version": 3
            },
            "file_extension": ".py",
            "mimetype": "text/x-python",
            "name": "python",
            "nbconvert_exporter": "python",
            "pygments_lexer": "ipython3",
            "version": "3.6.9"
        }
    },
    "nbformat": 4,
    "nbformat_minor": 1
}